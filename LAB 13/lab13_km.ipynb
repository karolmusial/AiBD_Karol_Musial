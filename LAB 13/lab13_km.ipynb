{
 "cells": [
  {
   "cell_type": "markdown",
   "id": "2b4c035f",
   "metadata": {},
   "source": [
    "# Analiza i Bazy Danych\n",
    "## Karol Musiał, grupa 3a\n",
    "### Laboratorium 13\n",
    "## \"Raportowanie\""
   ]
  },
  {
   "cell_type": "code",
   "execution_count": 1,
   "id": "e89bd7e6",
   "metadata": {},
   "outputs": [],
   "source": [
    "# Importowanie bibliotek\n",
    "\n",
    "import ipywidgets as widgets\n",
    "from ipywidgets import interact, interact_manual\n",
    "import chart_studio.plotly as py\n",
    "import pandas as pd\n",
    "import numpy as np\n",
    "from IPython.core.interactiveshell import InteractiveShell\n",
    "from IPython.display import display, HTML, Image\n",
    "import cufflinks as cf\n",
    "from plotly.offline import iplot, init_notebook_mode\n",
    "import os\n",
    "import subprocess"
   ]
  },
  {
   "cell_type": "code",
   "execution_count": 2,
   "id": "5a9a952e",
   "metadata": {},
   "outputs": [],
   "source": [
    "# Pokazywanie danych wejściowych\n",
    "\n",
    "InteractiveShell.ast_node_interactivity = 'all'"
   ]
  },
  {
   "cell_type": "markdown",
   "id": "4bfc6de6",
   "metadata": {},
   "source": [
    "## <b> Wczytanie Danych <b>"
   ]
  },
  {
   "cell_type": "code",
   "execution_count": 3,
   "id": "d2283f25",
   "metadata": {},
   "outputs": [
    {
     "data": {
      "text/html": [
       "<div>\n",
       "<style scoped>\n",
       "    .dataframe tbody tr th:only-of-type {\n",
       "        vertical-align: middle;\n",
       "    }\n",
       "\n",
       "    .dataframe tbody tr th {\n",
       "        vertical-align: top;\n",
       "    }\n",
       "\n",
       "    .dataframe thead th {\n",
       "        text-align: right;\n",
       "    }\n",
       "</style>\n",
       "<table border=\"1\" class=\"dataframe\">\n",
       "  <thead>\n",
       "    <tr style=\"text-align: right;\">\n",
       "      <th></th>\n",
       "      <th>claps</th>\n",
       "      <th>days_since_publication</th>\n",
       "      <th>fans</th>\n",
       "      <th>link</th>\n",
       "      <th>num_responses</th>\n",
       "      <th>publication</th>\n",
       "      <th>published_date</th>\n",
       "      <th>read_ratio</th>\n",
       "      <th>read_time</th>\n",
       "      <th>reads</th>\n",
       "      <th>...</th>\n",
       "      <th>type</th>\n",
       "      <th>views</th>\n",
       "      <th>word_count</th>\n",
       "      <th>claps_per_word</th>\n",
       "      <th>editing_days</th>\n",
       "      <th>&lt;tag&gt;Education</th>\n",
       "      <th>&lt;tag&gt;Data Science</th>\n",
       "      <th>&lt;tag&gt;Towards Data Science</th>\n",
       "      <th>&lt;tag&gt;Machine Learning</th>\n",
       "      <th>&lt;tag&gt;Python</th>\n",
       "    </tr>\n",
       "  </thead>\n",
       "  <tbody>\n",
       "    <tr>\n",
       "      <th>129</th>\n",
       "      <td>2</td>\n",
       "      <td>597.301123</td>\n",
       "      <td>2</td>\n",
       "      <td>https://medium.com/p/screw-the-environment-but...</td>\n",
       "      <td>0</td>\n",
       "      <td>None</td>\n",
       "      <td>2017-06-10 14:25:00</td>\n",
       "      <td>42.17</td>\n",
       "      <td>7</td>\n",
       "      <td>70</td>\n",
       "      <td>...</td>\n",
       "      <td>published</td>\n",
       "      <td>166</td>\n",
       "      <td>1859</td>\n",
       "      <td>0.001076</td>\n",
       "      <td>0</td>\n",
       "      <td>0</td>\n",
       "      <td>0</td>\n",
       "      <td>0</td>\n",
       "      <td>0</td>\n",
       "      <td>0</td>\n",
       "    </tr>\n",
       "    <tr>\n",
       "      <th>125</th>\n",
       "      <td>18</td>\n",
       "      <td>589.983168</td>\n",
       "      <td>3</td>\n",
       "      <td>https://medium.com/p/the-vanquishing-of-war-pl...</td>\n",
       "      <td>0</td>\n",
       "      <td>None</td>\n",
       "      <td>2017-06-17 22:02:00</td>\n",
       "      <td>30.34</td>\n",
       "      <td>14</td>\n",
       "      <td>54</td>\n",
       "      <td>...</td>\n",
       "      <td>published</td>\n",
       "      <td>178</td>\n",
       "      <td>3891</td>\n",
       "      <td>0.004626</td>\n",
       "      <td>0</td>\n",
       "      <td>0</td>\n",
       "      <td>0</td>\n",
       "      <td>0</td>\n",
       "      <td>0</td>\n",
       "      <td>0</td>\n",
       "    </tr>\n",
       "    <tr>\n",
       "      <th>132</th>\n",
       "      <td>51</td>\n",
       "      <td>577.363292</td>\n",
       "      <td>20</td>\n",
       "      <td>https://medium.com/p/capstone-project-mercedes...</td>\n",
       "      <td>0</td>\n",
       "      <td>None</td>\n",
       "      <td>2017-06-30 12:55:00</td>\n",
       "      <td>20.02</td>\n",
       "      <td>42</td>\n",
       "      <td>222</td>\n",
       "      <td>...</td>\n",
       "      <td>published</td>\n",
       "      <td>1109</td>\n",
       "      <td>12025</td>\n",
       "      <td>0.004241</td>\n",
       "      <td>0</td>\n",
       "      <td>0</td>\n",
       "      <td>0</td>\n",
       "      <td>0</td>\n",
       "      <td>1</td>\n",
       "      <td>1</td>\n",
       "    </tr>\n",
       "    <tr>\n",
       "      <th>126</th>\n",
       "      <td>0</td>\n",
       "      <td>576.520688</td>\n",
       "      <td>0</td>\n",
       "      <td>https://medium.com/p/home-of-the-scared-5af0fe...</td>\n",
       "      <td>0</td>\n",
       "      <td>None</td>\n",
       "      <td>2017-07-01 09:08:00</td>\n",
       "      <td>35.85</td>\n",
       "      <td>9</td>\n",
       "      <td>19</td>\n",
       "      <td>...</td>\n",
       "      <td>published</td>\n",
       "      <td>53</td>\n",
       "      <td>2533</td>\n",
       "      <td>0.000000</td>\n",
       "      <td>0</td>\n",
       "      <td>0</td>\n",
       "      <td>0</td>\n",
       "      <td>0</td>\n",
       "      <td>0</td>\n",
       "      <td>0</td>\n",
       "    </tr>\n",
       "    <tr>\n",
       "      <th>121</th>\n",
       "      <td>0</td>\n",
       "      <td>572.533035</td>\n",
       "      <td>0</td>\n",
       "      <td>https://medium.com/p/the-triumph-of-peace-f485...</td>\n",
       "      <td>0</td>\n",
       "      <td>None</td>\n",
       "      <td>2017-07-05 08:51:00</td>\n",
       "      <td>8.47</td>\n",
       "      <td>14</td>\n",
       "      <td>5</td>\n",
       "      <td>...</td>\n",
       "      <td>published</td>\n",
       "      <td>59</td>\n",
       "      <td>3892</td>\n",
       "      <td>0.000000</td>\n",
       "      <td>1</td>\n",
       "      <td>0</td>\n",
       "      <td>0</td>\n",
       "      <td>0</td>\n",
       "      <td>0</td>\n",
       "      <td>0</td>\n",
       "    </tr>\n",
       "  </tbody>\n",
       "</table>\n",
       "<p>5 rows × 25 columns</p>\n",
       "</div>"
      ],
      "text/plain": [
       "     claps  days_since_publication  fans  \\\n",
       "129      2              597.301123     2   \n",
       "125     18              589.983168     3   \n",
       "132     51              577.363292    20   \n",
       "126      0              576.520688     0   \n",
       "121      0              572.533035     0   \n",
       "\n",
       "                                                  link  num_responses  \\\n",
       "129  https://medium.com/p/screw-the-environment-but...              0   \n",
       "125  https://medium.com/p/the-vanquishing-of-war-pl...              0   \n",
       "132  https://medium.com/p/capstone-project-mercedes...              0   \n",
       "126  https://medium.com/p/home-of-the-scared-5af0fe...              0   \n",
       "121  https://medium.com/p/the-triumph-of-peace-f485...              0   \n",
       "\n",
       "    publication      published_date  read_ratio  read_time  reads  ...  \\\n",
       "129        None 2017-06-10 14:25:00       42.17          7     70  ...   \n",
       "125        None 2017-06-17 22:02:00       30.34         14     54  ...   \n",
       "132        None 2017-06-30 12:55:00       20.02         42    222  ...   \n",
       "126        None 2017-07-01 09:08:00       35.85          9     19  ...   \n",
       "121        None 2017-07-05 08:51:00        8.47         14      5  ...   \n",
       "\n",
       "          type views word_count claps_per_word  editing_days <tag>Education  \\\n",
       "129  published   166       1859       0.001076             0              0   \n",
       "125  published   178       3891       0.004626             0              0   \n",
       "132  published  1109      12025       0.004241             0              0   \n",
       "126  published    53       2533       0.000000             0              0   \n",
       "121  published    59       3892       0.000000             1              0   \n",
       "\n",
       "     <tag>Data Science  <tag>Towards Data Science  <tag>Machine Learning  \\\n",
       "129                  0                          0                      0   \n",
       "125                  0                          0                      0   \n",
       "132                  0                          0                      1   \n",
       "126                  0                          0                      0   \n",
       "121                  0                          0                      0   \n",
       "\n",
       "     <tag>Python  \n",
       "129            0  \n",
       "125            0  \n",
       "132            1  \n",
       "126            0  \n",
       "121            0  \n",
       "\n",
       "[5 rows x 25 columns]"
      ]
     },
     "execution_count": 3,
     "metadata": {},
     "output_type": "execute_result"
    }
   ],
   "source": [
    "# Wczytanie danych\n",
    "\n",
    "data = pd.read_parquet('https://github.com/WillKoehrsen/Data-Analysis/blob/master/medium/data/medium_data_2019_01_26?raw=true')\n",
    "data.head()"
   ]
  },
  {
   "cell_type": "code",
   "execution_count": 4,
   "id": "87d13e69",
   "metadata": {},
   "outputs": [
    {
     "data": {
      "text/html": [
       "<div>\n",
       "<style scoped>\n",
       "    .dataframe tbody tr th:only-of-type {\n",
       "        vertical-align: middle;\n",
       "    }\n",
       "\n",
       "    .dataframe tbody tr th {\n",
       "        vertical-align: top;\n",
       "    }\n",
       "\n",
       "    .dataframe thead th {\n",
       "        text-align: right;\n",
       "    }\n",
       "</style>\n",
       "<table border=\"1\" class=\"dataframe\">\n",
       "  <thead>\n",
       "    <tr style=\"text-align: right;\">\n",
       "      <th></th>\n",
       "      <th>title</th>\n",
       "      <th>tags</th>\n",
       "      <th>published_date</th>\n",
       "      <th>publication</th>\n",
       "      <th>reads</th>\n",
       "      <th>views</th>\n",
       "      <th>word_count</th>\n",
       "      <th>claps</th>\n",
       "      <th>fans</th>\n",
       "      <th>read_time</th>\n",
       "    </tr>\n",
       "  </thead>\n",
       "  <tbody>\n",
       "    <tr>\n",
       "      <th>129</th>\n",
       "      <td>Screw the Environment, but Consider Your Wallet</td>\n",
       "      <td>[Climate Change, Economics]</td>\n",
       "      <td>2017-06-10 14:25:00</td>\n",
       "      <td>None</td>\n",
       "      <td>70</td>\n",
       "      <td>166</td>\n",
       "      <td>1859</td>\n",
       "      <td>2</td>\n",
       "      <td>2</td>\n",
       "      <td>7</td>\n",
       "    </tr>\n",
       "    <tr>\n",
       "      <th>125</th>\n",
       "      <td>The Vanquishing of War, Plague and Famine</td>\n",
       "      <td>[Climate Change, Humanity, Optimism, History]</td>\n",
       "      <td>2017-06-17 22:02:00</td>\n",
       "      <td>None</td>\n",
       "      <td>54</td>\n",
       "      <td>178</td>\n",
       "      <td>3891</td>\n",
       "      <td>18</td>\n",
       "      <td>3</td>\n",
       "      <td>14</td>\n",
       "    </tr>\n",
       "    <tr>\n",
       "      <th>132</th>\n",
       "      <td>Capstone Project: Mercedes-Benz Greener Manufa...</td>\n",
       "      <td>[Machine Learning, Python, Udacity, Kaggle]</td>\n",
       "      <td>2017-06-30 12:55:00</td>\n",
       "      <td>None</td>\n",
       "      <td>222</td>\n",
       "      <td>1109</td>\n",
       "      <td>12025</td>\n",
       "      <td>51</td>\n",
       "      <td>20</td>\n",
       "      <td>42</td>\n",
       "    </tr>\n",
       "    <tr>\n",
       "      <th>126</th>\n",
       "      <td>Home of the Scared</td>\n",
       "      <td>[Politics, Books, News, Media Criticism]</td>\n",
       "      <td>2017-07-01 09:08:00</td>\n",
       "      <td>None</td>\n",
       "      <td>19</td>\n",
       "      <td>53</td>\n",
       "      <td>2533</td>\n",
       "      <td>0</td>\n",
       "      <td>0</td>\n",
       "      <td>9</td>\n",
       "    </tr>\n",
       "    <tr>\n",
       "      <th>121</th>\n",
       "      <td>The Triumph of Peace</td>\n",
       "      <td>[Books, Psychology, History, Humanism]</td>\n",
       "      <td>2017-07-05 08:51:00</td>\n",
       "      <td>None</td>\n",
       "      <td>5</td>\n",
       "      <td>59</td>\n",
       "      <td>3892</td>\n",
       "      <td>0</td>\n",
       "      <td>0</td>\n",
       "      <td>14</td>\n",
       "    </tr>\n",
       "  </tbody>\n",
       "</table>\n",
       "</div>"
      ],
      "text/plain": [
       "                                                 title  \\\n",
       "129    Screw the Environment, but Consider Your Wallet   \n",
       "125          The Vanquishing of War, Plague and Famine   \n",
       "132  Capstone Project: Mercedes-Benz Greener Manufa...   \n",
       "126                                 Home of the Scared   \n",
       "121                               The Triumph of Peace   \n",
       "\n",
       "                                              tags      published_date  \\\n",
       "129                    [Climate Change, Economics] 2017-06-10 14:25:00   \n",
       "125  [Climate Change, Humanity, Optimism, History] 2017-06-17 22:02:00   \n",
       "132    [Machine Learning, Python, Udacity, Kaggle] 2017-06-30 12:55:00   \n",
       "126       [Politics, Books, News, Media Criticism] 2017-07-01 09:08:00   \n",
       "121         [Books, Psychology, History, Humanism] 2017-07-05 08:51:00   \n",
       "\n",
       "    publication  reads  views  word_count  claps  fans  read_time  \n",
       "129        None     70    166        1859      2     2          7  \n",
       "125        None     54    178        3891     18     3         14  \n",
       "132        None    222   1109       12025     51    20         42  \n",
       "126        None     19     53        2533      0     0          9  \n",
       "121        None      5     59        3892      0     0         14  "
      ]
     },
     "execution_count": 4,
     "metadata": {},
     "output_type": "execute_result"
    }
   ],
   "source": [
    "# Tworzenie nowego DataFrame\n",
    "\n",
    "new_data = data[['title', 'tags', 'published_date', 'publication', 'reads', 'views', 'word_count', 'claps', 'fans', 'read_time']]\n",
    "new_data.head()"
   ]
  },
  {
   "cell_type": "markdown",
   "id": "5bda7a24",
   "metadata": {},
   "source": [
    "## <b> Wyświetlanie Danych <b>"
   ]
  },
  {
   "cell_type": "code",
   "execution_count": 5,
   "id": "f2e3f1f9",
   "metadata": {},
   "outputs": [
    {
     "data": {
      "text/html": [
       "<div>\n",
       "<style scoped>\n",
       "    .dataframe tbody tr th:only-of-type {\n",
       "        vertical-align: middle;\n",
       "    }\n",
       "\n",
       "    .dataframe tbody tr th {\n",
       "        vertical-align: top;\n",
       "    }\n",
       "\n",
       "    .dataframe thead th {\n",
       "        text-align: right;\n",
       "    }\n",
       "</style>\n",
       "<table border=\"1\" class=\"dataframe\">\n",
       "  <thead>\n",
       "    <tr style=\"text-align: right;\">\n",
       "      <th></th>\n",
       "      <th>title</th>\n",
       "      <th>tags</th>\n",
       "      <th>published_date</th>\n",
       "      <th>publication</th>\n",
       "      <th>reads</th>\n",
       "      <th>views</th>\n",
       "      <th>word_count</th>\n",
       "      <th>claps</th>\n",
       "      <th>fans</th>\n",
       "      <th>read_time</th>\n",
       "    </tr>\n",
       "  </thead>\n",
       "  <tbody>\n",
       "    <tr>\n",
       "      <th>132</th>\n",
       "      <td>Capstone Project: Mercedes-Benz Greener Manufa...</td>\n",
       "      <td>[Machine Learning, Python, Udacity, Kaggle]</td>\n",
       "      <td>2017-06-30 12:55:00</td>\n",
       "      <td>None</td>\n",
       "      <td>222</td>\n",
       "      <td>1109</td>\n",
       "      <td>12025</td>\n",
       "      <td>51</td>\n",
       "      <td>20</td>\n",
       "      <td>42</td>\n",
       "    </tr>\n",
       "    <tr>\n",
       "      <th>131</th>\n",
       "      <td>Deep Neural Network Classifier</td>\n",
       "      <td>[Machine Learning, Neural Networks, TensorFlow...</td>\n",
       "      <td>2017-07-25 17:54:00</td>\n",
       "      <td>None</td>\n",
       "      <td>1717</td>\n",
       "      <td>9723</td>\n",
       "      <td>1778</td>\n",
       "      <td>73</td>\n",
       "      <td>20</td>\n",
       "      <td>14</td>\n",
       "    </tr>\n",
       "    <tr>\n",
       "      <th>122</th>\n",
       "      <td>Object Recognition with Google’s Convolutional...</td>\n",
       "      <td>[Machine Learning, Neural Networks, Python, Ob...</td>\n",
       "      <td>2017-07-27 21:17:00</td>\n",
       "      <td>None</td>\n",
       "      <td>5690</td>\n",
       "      <td>24079</td>\n",
       "      <td>2345</td>\n",
       "      <td>240</td>\n",
       "      <td>56</td>\n",
       "      <td>12</td>\n",
       "    </tr>\n",
       "    <tr>\n",
       "      <th>127</th>\n",
       "      <td>Facial Recognition Using Google’s Convolutiona...</td>\n",
       "      <td>[Machine Learning, Python, Neural Networks, Fa...</td>\n",
       "      <td>2017-08-07 14:24:00</td>\n",
       "      <td>None</td>\n",
       "      <td>3992</td>\n",
       "      <td>28387</td>\n",
       "      <td>6666</td>\n",
       "      <td>704</td>\n",
       "      <td>76</td>\n",
       "      <td>38</td>\n",
       "    </tr>\n",
       "    <tr>\n",
       "      <th>124</th>\n",
       "      <td>Exploratory Data Analysis with R</td>\n",
       "      <td>[Data Science, R Programming, Data Analysis, U...</td>\n",
       "      <td>2017-08-08 12:58:00</td>\n",
       "      <td>None</td>\n",
       "      <td>509</td>\n",
       "      <td>4174</td>\n",
       "      <td>7559</td>\n",
       "      <td>58</td>\n",
       "      <td>13</td>\n",
       "      <td>43</td>\n",
       "    </tr>\n",
       "  </tbody>\n",
       "</table>\n",
       "</div>"
      ],
      "text/plain": [
       "                                                 title  \\\n",
       "132  Capstone Project: Mercedes-Benz Greener Manufa...   \n",
       "131                     Deep Neural Network Classifier   \n",
       "122  Object Recognition with Google’s Convolutional...   \n",
       "127  Facial Recognition Using Google’s Convolutiona...   \n",
       "124                   Exploratory Data Analysis with R   \n",
       "\n",
       "                                                  tags      published_date  \\\n",
       "132        [Machine Learning, Python, Udacity, Kaggle] 2017-06-30 12:55:00   \n",
       "131  [Machine Learning, Neural Networks, TensorFlow... 2017-07-25 17:54:00   \n",
       "122  [Machine Learning, Neural Networks, Python, Ob... 2017-07-27 21:17:00   \n",
       "127  [Machine Learning, Python, Neural Networks, Fa... 2017-08-07 14:24:00   \n",
       "124  [Data Science, R Programming, Data Analysis, U... 2017-08-08 12:58:00   \n",
       "\n",
       "    publication  reads  views  word_count  claps  fans  read_time  \n",
       "132        None    222   1109       12025     51    20         42  \n",
       "131        None   1717   9723        1778     73    20         14  \n",
       "122        None   5690  24079        2345    240    56         12  \n",
       "127        None   3992  28387        6666    704    76         38  \n",
       "124        None    509   4174        7559     58    13         43  "
      ]
     },
     "execution_count": 5,
     "metadata": {},
     "output_type": "execute_result"
    }
   ],
   "source": [
    "# Artykuły przeczytane więcej niż 1000 razy\n",
    "\n",
    "new_data.loc[new_data['views'] > 1000].head()"
   ]
  },
  {
   "cell_type": "code",
   "execution_count": 6,
   "id": "deec39de",
   "metadata": {},
   "outputs": [
    {
     "data": {
      "text/html": [
       "<div>\n",
       "<style scoped>\n",
       "    .dataframe tbody tr th:only-of-type {\n",
       "        vertical-align: middle;\n",
       "    }\n",
       "\n",
       "    .dataframe tbody tr th {\n",
       "        vertical-align: top;\n",
       "    }\n",
       "\n",
       "    .dataframe thead th {\n",
       "        text-align: right;\n",
       "    }\n",
       "</style>\n",
       "<table border=\"1\" class=\"dataframe\">\n",
       "  <thead>\n",
       "    <tr style=\"text-align: right;\">\n",
       "      <th></th>\n",
       "      <th>title</th>\n",
       "      <th>tags</th>\n",
       "      <th>published_date</th>\n",
       "      <th>publication</th>\n",
       "      <th>reads</th>\n",
       "      <th>views</th>\n",
       "      <th>word_count</th>\n",
       "      <th>claps</th>\n",
       "      <th>fans</th>\n",
       "      <th>read_time</th>\n",
       "    </tr>\n",
       "  </thead>\n",
       "  <tbody>\n",
       "    <tr>\n",
       "      <th>132</th>\n",
       "      <td>Capstone Project: Mercedes-Benz Greener Manufa...</td>\n",
       "      <td>[Machine Learning, Python, Udacity, Kaggle]</td>\n",
       "      <td>2017-06-30 12:55:00</td>\n",
       "      <td>None</td>\n",
       "      <td>222</td>\n",
       "      <td>1109</td>\n",
       "      <td>12025</td>\n",
       "      <td>51</td>\n",
       "      <td>20</td>\n",
       "      <td>42</td>\n",
       "    </tr>\n",
       "    <tr>\n",
       "      <th>131</th>\n",
       "      <td>Deep Neural Network Classifier</td>\n",
       "      <td>[Machine Learning, Neural Networks, TensorFlow...</td>\n",
       "      <td>2017-07-25 17:54:00</td>\n",
       "      <td>None</td>\n",
       "      <td>1717</td>\n",
       "      <td>9723</td>\n",
       "      <td>1778</td>\n",
       "      <td>73</td>\n",
       "      <td>20</td>\n",
       "      <td>14</td>\n",
       "    </tr>\n",
       "    <tr>\n",
       "      <th>122</th>\n",
       "      <td>Object Recognition with Google’s Convolutional...</td>\n",
       "      <td>[Machine Learning, Neural Networks, Python, Ob...</td>\n",
       "      <td>2017-07-27 21:17:00</td>\n",
       "      <td>None</td>\n",
       "      <td>5690</td>\n",
       "      <td>24079</td>\n",
       "      <td>2345</td>\n",
       "      <td>240</td>\n",
       "      <td>56</td>\n",
       "      <td>12</td>\n",
       "    </tr>\n",
       "    <tr>\n",
       "      <th>127</th>\n",
       "      <td>Facial Recognition Using Google’s Convolutiona...</td>\n",
       "      <td>[Machine Learning, Python, Neural Networks, Fa...</td>\n",
       "      <td>2017-08-07 14:24:00</td>\n",
       "      <td>None</td>\n",
       "      <td>3992</td>\n",
       "      <td>28387</td>\n",
       "      <td>6666</td>\n",
       "      <td>704</td>\n",
       "      <td>76</td>\n",
       "      <td>38</td>\n",
       "    </tr>\n",
       "    <tr>\n",
       "      <th>124</th>\n",
       "      <td>Exploratory Data Analysis with R</td>\n",
       "      <td>[Data Science, R Programming, Data Analysis, U...</td>\n",
       "      <td>2017-08-08 12:58:00</td>\n",
       "      <td>None</td>\n",
       "      <td>509</td>\n",
       "      <td>4174</td>\n",
       "      <td>7559</td>\n",
       "      <td>58</td>\n",
       "      <td>13</td>\n",
       "      <td>43</td>\n",
       "    </tr>\n",
       "  </tbody>\n",
       "</table>\n",
       "</div>"
      ],
      "text/plain": [
       "                                                 title  \\\n",
       "132  Capstone Project: Mercedes-Benz Greener Manufa...   \n",
       "131                     Deep Neural Network Classifier   \n",
       "122  Object Recognition with Google’s Convolutional...   \n",
       "127  Facial Recognition Using Google’s Convolutiona...   \n",
       "124                   Exploratory Data Analysis with R   \n",
       "\n",
       "                                                  tags      published_date  \\\n",
       "132        [Machine Learning, Python, Udacity, Kaggle] 2017-06-30 12:55:00   \n",
       "131  [Machine Learning, Neural Networks, TensorFlow... 2017-07-25 17:54:00   \n",
       "122  [Machine Learning, Neural Networks, Python, Ob... 2017-07-27 21:17:00   \n",
       "127  [Machine Learning, Python, Neural Networks, Fa... 2017-08-07 14:24:00   \n",
       "124  [Data Science, R Programming, Data Analysis, U... 2017-08-08 12:58:00   \n",
       "\n",
       "    publication  reads  views  word_count  claps  fans  read_time  \n",
       "132        None    222   1109       12025     51    20         42  \n",
       "131        None   1717   9723        1778     73    20         14  \n",
       "122        None   5690  24079        2345    240    56         12  \n",
       "127        None   3992  28387        6666    704    76         38  \n",
       "124        None    509   4174        7559     58    13         43  "
      ]
     },
     "execution_count": 6,
     "metadata": {},
     "output_type": "execute_result"
    }
   ],
   "source": [
    "# Artykuły przeczytane więcej niż 500 razy\n",
    "\n",
    "new_data.loc[new_data['views'] > 500].head()"
   ]
  },
  {
   "cell_type": "code",
   "execution_count": 7,
   "id": "cb51a2fb",
   "metadata": {},
   "outputs": [
    {
     "data": {
      "application/vnd.jupyter.widget-view+json": {
       "model_id": "8e1df9f112cc4e5ca99a7ffdd9aad17a",
       "version_major": 2,
       "version_minor": 0
      },
      "text/plain": [
       "interactive(children=(Text(value='claps', description='column'), IntSlider(value=5000, description='x', max=15…"
      ]
     },
     "metadata": {},
     "output_type": "display_data"
    }
   ],
   "source": [
    "# Interaktywna zmiana claps\n",
    "\n",
    "@interact\n",
    "def show_articles_more_than(column='claps', x=5000):\n",
    "    display(HTML(f'<h3>Showing articles with more than {x} {column}<h3>'))\n",
    "    display(new_data.loc[new_data[column] > x])"
   ]
  },
  {
   "cell_type": "code",
   "execution_count": 8,
   "id": "98aa9e1d",
   "metadata": {},
   "outputs": [
    {
     "data": {
      "application/vnd.jupyter.widget-view+json": {
       "model_id": "e692f28f472c43318a9c01dad86e93b2",
       "version_major": 2,
       "version_minor": 0
      },
      "text/plain": [
       "interactive(children=(Dropdown(description='column', options=('reads', 'views', 'word_count', 'claps', 'fans',…"
      ]
     },
     "metadata": {},
     "output_type": "display_data"
    }
   ],
   "source": [
    "# Interaktywna zmiana dowolnej kolumny\n",
    "\n",
    "@interact\n",
    "def show_titles_more_than(column=list(new_data.select_dtypes('number').columns), \n",
    "                          x=(1000, 5000, 100)):\n",
    "    display(HTML(f'<h3>Showing articles with more than {x} {column}<h3>'))\n",
    "    display(new_data.loc[new_data[column] > x])"
   ]
  },
  {
   "cell_type": "markdown",
   "id": "e5e47d32",
   "metadata": {},
   "source": [
    "## <b> Dataframe Explorer <b>"
   ]
  },
  {
   "cell_type": "code",
   "execution_count": 9,
   "id": "02c4f7c0",
   "metadata": {},
   "outputs": [
    {
     "data": {
      "application/vnd.jupyter.widget-view+json": {
       "model_id": "f13e296ba32947d58ffd44c13fbe7078",
       "version_major": 2,
       "version_minor": 0
      },
      "text/plain": [
       "interactive(children=(Dropdown(description='column1', options=('reads', 'views', 'word_count', 'claps', 'fans'…"
      ]
     },
     "metadata": {},
     "output_type": "display_data"
    }
   ],
   "source": [
    "# Funkcja do znajdowania korelacji między dwoma kolumnami\n",
    "\n",
    "@interact\n",
    "def show_correlation(column1=list(new_data.select_dtypes('number')), column2=list(new_data.select_dtypes('number'))):\n",
    "    display(HTML(f'<h3>Showing correlaction between {column1} and {column2}<h3>'))\n",
    "    display(new_data[column1].corr(new_data[column2]))"
   ]
  },
  {
   "cell_type": "code",
   "execution_count": 10,
   "id": "4da395e5",
   "metadata": {},
   "outputs": [
    {
     "data": {
      "application/vnd.jupyter.widget-view+json": {
       "model_id": "200aa1ec6c174a188251ca12f2e459fb",
       "version_major": 2,
       "version_minor": 0
      },
      "text/plain": [
       "interactive(children=(Dropdown(description='column', options=('title', 'tags', 'published_date', 'publication'…"
      ]
     },
     "metadata": {},
     "output_type": "display_data"
    }
   ],
   "source": [
    "# Funkcja wywołująca describe dla danej kolumny\n",
    "\n",
    "@interact\n",
    "def show_describe(column=list(new_data)):\n",
    "    display(HTML(f'<h3>Calling describe for {column}<h3>'))\n",
    "    display(new_data[column].describe())"
   ]
  },
  {
   "cell_type": "markdown",
   "id": "e107ec55",
   "metadata": {},
   "source": [
    "## <b> Widgety dla wykresów <b>"
   ]
  },
  {
   "cell_type": "code",
   "execution_count": 11,
   "id": "cc22af1c",
   "metadata": {},
   "outputs": [
    {
     "data": {
      "text/html": [
       "        <script type=\"text/javascript\">\n",
       "        window.PlotlyConfig = {MathJaxConfig: 'local'};\n",
       "        if (window.MathJax) {MathJax.Hub.Config({SVG: {font: \"STIX-Web\"}});}\n",
       "        if (typeof require !== 'undefined') {\n",
       "        require.undef(\"plotly\");\n",
       "        requirejs.config({\n",
       "            paths: {\n",
       "                'plotly': ['https://cdn.plot.ly/plotly-latest.min']\n",
       "            }\n",
       "        });\n",
       "        require(['plotly'], function(Plotly) {\n",
       "            window._Plotly = Plotly;\n",
       "        });\n",
       "        }\n",
       "        </script>\n",
       "        "
      ]
     },
     "metadata": {},
     "output_type": "display_data"
    },
    {
     "data": {
      "text/html": [
       "        <script type=\"text/javascript\">\n",
       "        window.PlotlyConfig = {MathJaxConfig: 'local'};\n",
       "        if (window.MathJax) {MathJax.Hub.Config({SVG: {font: \"STIX-Web\"}});}\n",
       "        if (typeof require !== 'undefined') {\n",
       "        require.undef(\"plotly\");\n",
       "        requirejs.config({\n",
       "            paths: {\n",
       "                'plotly': ['https://cdn.plot.ly/plotly-latest.min']\n",
       "            }\n",
       "        });\n",
       "        require(['plotly'], function(Plotly) {\n",
       "            window._Plotly = Plotly;\n",
       "        });\n",
       "        }\n",
       "        </script>\n",
       "        "
      ]
     },
     "metadata": {},
     "output_type": "display_data"
    }
   ],
   "source": [
    "# Łączenie pandas i plotly\n",
    "\n",
    "cf.go_offline(connected=True)\n",
    "cf.set_config_file(colorscale='plotly', world_readable=True)\n",
    "init_notebook_mode(connected=True)"
   ]
  },
  {
   "cell_type": "code",
   "execution_count": 20,
   "id": "d403d6a8",
   "metadata": {},
   "outputs": [
    {
     "data": {
      "application/vnd.jupyter.widget-view+json": {
       "model_id": "26993639e368460c8d198daa66b2f022",
       "version_major": 2,
       "version_minor": 0
      },
      "text/plain": [
       "interactive(children=(Dropdown(description='x', options=('reads', 'views', 'word_count', 'claps', 'fans', 'rea…"
      ]
     },
     "metadata": {},
     "output_type": "display_data"
    }
   ],
   "source": [
    "# Interaktywne tworzenie wykresów\n",
    "\n",
    "new_data['binned_read_time'] = pd.cut(new_data['read_time'], bins=range(0, 56, 5))\n",
    "new_data['binned_read_time'] = new_data['binned_read_time'].astype(str)\n",
    "new_data['binned_word_count'] = pd.cut(new_data['word_count'], bins=range(0, 100001, 1000))\n",
    "new_data['binned_word_count'] = new_data['binned_word_count'].astype(str)\n",
    "\n",
    "@interact_manual\n",
    "def scatter_plot(x=list(new_data.select_dtypes('number').columns), \n",
    "                 y=list(new_data.select_dtypes('number').columns)[1:],\n",
    "                theme=cf.themes.THEMES.keys(),\n",
    "                color=cf.colors._scales_names.keys(),\n",
    "                categories=['binned_read_time', 'binned_word_count', 'publication']):\n",
    "    new_data.iplot(kind='scatter', x=x, y=y, mode='markers', theme=theme, colorscale=color,\n",
    "             xTitle=x.title(), yTitle=y.title(), title=f'{y.title()} vs {x.title()}', categories=categories)"
   ]
  },
  {
   "cell_type": "markdown",
   "id": "072d7403",
   "metadata": {},
   "source": [
    "## <b> Własne Widgety <b>"
   ]
  },
  {
   "cell_type": "code",
   "execution_count": 13,
   "id": "f0a43fe3",
   "metadata": {},
   "outputs": [],
   "source": [
    "# Zmiana indexu\n",
    "\n",
    "new_data.set_index('published_date', inplace=True)"
   ]
  },
  {
   "cell_type": "code",
   "execution_count": 14,
   "id": "1d4bd587",
   "metadata": {},
   "outputs": [
    {
     "data": {
      "application/vnd.jupyter.widget-view+json": {
       "model_id": "f7cff6465c8a4375a5f2f97d4ab62b47",
       "version_major": 2,
       "version_minor": 0
      },
      "text/plain": [
       "interactive(children=(DatePicker(value=Timestamp('2018-01-01 00:00:00'), description='start_date'), DatePicker…"
      ]
     },
     "metadata": {},
     "output_type": "display_data"
    }
   ],
   "source": [
    "# Tworzenie własnej funkcji do wyświetlania statystyk artykułów\n",
    "\n",
    "def stats_for_article_published_between(start_date, end_date):\n",
    "    data = new_data.loc[start_date:end_date]\n",
    "    num_articles = len(data.index)\n",
    "    total_words = data['word_count'].sum()\n",
    "    total_read_time = data['read_time'].sum()\n",
    "    print(f'You published {num_articles} articles between {start_date} and {end_date}.')\n",
    "    print(f'These articles totalled {total_words:,} words and {total_read_time/60:.2f} hours to read.')\n",
    "    \n",
    "\n",
    "_ = interact(stats_for_article_published_between,\n",
    "             start_date=widgets.DatePicker(value=pd.to_datetime('2018-01-01')),\n",
    "             end_date=widgets.DatePicker(value=pd.to_datetime('2019-01-01')))"
   ]
  },
  {
   "cell_type": "code",
   "execution_count": 15,
   "id": "7bc8d2bd",
   "metadata": {},
   "outputs": [
    {
     "data": {
      "application/vnd.jupyter.widget-view+json": {
       "model_id": "343d21ce70c049dfa3713fd52974271d",
       "version_major": 2,
       "version_minor": 0
      },
      "text/plain": [
       "interactive(children=(Dropdown(description='column', options=('reads', 'views', 'word_count', 'claps', 'fans',…"
      ]
     },
     "metadata": {},
     "output_type": "display_data"
    }
   ],
   "source": [
    "# Rysowanie wykresu sumy wartości kolumny dla danej daty\n",
    "\n",
    "def plot_up_to(column, date):\n",
    "    data = new_data.loc[date.strftime('%Y-%m-%d')]\n",
    "    cal_sum = data[column].sum()\n",
    "    print(f'Sum of {column} on {date} is {cal_sum}.')\n",
    "    data.iplot(kind='bar', y=column, yTitle=column)\n",
    "    \n",
    "_ = interact(plot_up_to,\n",
    "             column=widgets.Dropdown(options = list(new_data.select_dtypes('number'))),\n",
    "             date=widgets.DatePicker(value=pd.to_datetime('2019-01-02')))"
   ]
  },
  {
   "cell_type": "markdown",
   "id": "8b502d53",
   "metadata": {},
   "source": [
    "## <b> Przeglądanie zdjęć <b>"
   ]
  },
  {
   "cell_type": "code",
   "execution_count": 16,
   "id": "4f13f2e2",
   "metadata": {},
   "outputs": [
    {
     "data": {
      "application/vnd.jupyter.widget-view+json": {
       "model_id": "e315af9e88b64907887d6dd2ce824f4f",
       "version_major": 2,
       "version_minor": 0
      },
      "text/plain": [
       "interactive(children=(Dropdown(description='im', options=('autumn', 'spring', 'summer', 'winter'), value='autu…"
      ]
     },
     "metadata": {},
     "output_type": "display_data"
    }
   ],
   "source": [
    "# Przeglądanie zdjęć w folderze\n",
    "\n",
    "@interact\n",
    "def show_image(im=['autumn', 'spring', 'summer', 'winter']):\n",
    "    path = 'images/' + im + '.jpg'\n",
    "    file = open(path, \"rb\")\n",
    "    image = file.read()\n",
    "    display(widgets.Image(value=image, format='png', width=640, height=640))"
   ]
  },
  {
   "cell_type": "markdown",
   "id": "c1699ef5",
   "metadata": {},
   "source": [
    "## <b> Przeglądanie plików <b>"
   ]
  },
  {
   "cell_type": "code",
   "execution_count": 17,
   "id": "664e26b9",
   "metadata": {},
   "outputs": [
    {
     "data": {
      "application/vnd.jupyter.widget-view+json": {
       "model_id": "1d996ff40acb4cbda13eb08012a2cac4",
       "version_major": 2,
       "version_minor": 0
      },
      "text/plain": [
       "interactive(children=(Dropdown(description='directory', options=('cities', 'images'), value='cities'), Output(…"
      ]
     },
     "metadata": {},
     "output_type": "display_data"
    }
   ],
   "source": [
    "# Przeglądanie plików w folderach\n",
    "\n",
    "@interact\n",
    "def show_folder(directory=[d for d in os.listdir('./') if d[-1] == 's' and d[0] != '.']):\n",
    "    x = subprocess.check_output(f\"cd {'./'}{directory} && dir\", shell=True).decode('ISO-8859-1')\n",
    "    print(x)"
   ]
  },
  {
   "cell_type": "markdown",
   "id": "e0af21f6",
   "metadata": {},
   "source": [
    "## <b> Zależne Widgety <b>"
   ]
  },
  {
   "cell_type": "code",
   "execution_count": 18,
   "id": "f47d2fb8",
   "metadata": {},
   "outputs": [
    {
     "data": {
      "application/vnd.jupyter.widget-view+json": {
       "model_id": "540dc068516241179631f3854dc94772",
       "version_major": 2,
       "version_minor": 0
      },
      "text/plain": [
       "interactive(children=(Dropdown(description='fdir', options=('images', 'cities'), value='images'), Dropdown(des…"
      ]
     },
     "metadata": {},
     "output_type": "display_data"
    }
   ],
   "source": [
    "# Uzależnianie jednego widgetu od drugiego\n",
    "\n",
    "directory = widgets.Dropdown(options=['images', 'cities'])\n",
    "images = widgets.Dropdown(options=os.listdir(directory.value))\n",
    "\n",
    "def update_images(*args):\n",
    "    images.options = os.listdir(directory.value)\n",
    "\n",
    "directory.observe(update_images, 'value')\n",
    "\n",
    "def show_images(fdir, file):\n",
    "    file = open(fdir + '/' + file, \"rb\")\n",
    "    image = file.read()\n",
    "    display(widgets.Image(value=image, format='png', width=640, height=640))\n",
    "\n",
    "_ = interact(show_images,\n",
    "            fdir=directory,\n",
    "            file=images)"
   ]
  }
 ],
 "metadata": {
  "kernelspec": {
   "display_name": "Python 3 (ipykernel)",
   "language": "python",
   "name": "python3"
  },
  "language_info": {
   "codemirror_mode": {
    "name": "ipython",
    "version": 3
   },
   "file_extension": ".py",
   "mimetype": "text/x-python",
   "name": "python",
   "nbconvert_exporter": "python",
   "pygments_lexer": "ipython3",
   "version": "3.8.10"
  }
 },
 "nbformat": 4,
 "nbformat_minor": 5
}
