{
 "cells": [
  {
   "cell_type": "markdown",
   "id": "dc0fcbf1",
   "metadata": {},
   "source": [
    "# Analiza i Bazy Danych\n",
    "## Karol Musiał, grupa 3a\n",
    "### Laboratorium 2\n",
    "## \"TIER Protocol i Tidy Data\""
   ]
  },
  {
   "cell_type": "code",
   "execution_count": 2,
   "id": "53bda472",
   "metadata": {},
   "outputs": [],
   "source": [
    "# Importowanie\n",
    "from matplotlib import pyplot as plt\n",
    "import pandas as pd\n",
    "\n",
    "# Wczytywanie danych\n",
    "data = pd.read_csv('../Original Data/originaldata.csv')"
   ]
  }
 ],
 "metadata": {
  "kernelspec": {
   "display_name": "Python 3",
   "language": "python",
   "name": "python3"
  },
  "language_info": {
   "codemirror_mode": {
    "name": "ipython",
    "version": 3
   },
   "file_extension": ".py",
   "mimetype": "text/x-python",
   "name": "python",
   "nbconvert_exporter": "python",
   "pygments_lexer": "ipython3",
   "version": "3.8.2"
  }
 },
 "nbformat": 4,
 "nbformat_minor": 5
}
