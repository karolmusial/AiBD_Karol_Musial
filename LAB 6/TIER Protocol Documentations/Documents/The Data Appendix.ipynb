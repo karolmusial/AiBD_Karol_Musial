{
 "cells": [
  {
   "cell_type": "markdown",
   "id": "8f760f7e",
   "metadata": {},
   "source": [
    "# Analiza i Bazy Danych\n",
    "## Karol Musiał, grupa 3a\n",
    "### Laboratorium 6\n",
    "## \"Exploratory Data Analysis\""
   ]
  },
  {
   "cell_type": "code",
   "execution_count": 14,
   "id": "6a20b751",
   "metadata": {},
   "outputs": [
    {
     "data": {
      "text/html": [
       "<div>\n",
       "<style scoped>\n",
       "    .dataframe tbody tr th:only-of-type {\n",
       "        vertical-align: middle;\n",
       "    }\n",
       "\n",
       "    .dataframe tbody tr th {\n",
       "        vertical-align: top;\n",
       "    }\n",
       "\n",
       "    .dataframe thead th {\n",
       "        text-align: right;\n",
       "    }\n",
       "</style>\n",
       "<table border=\"1\" class=\"dataframe\">\n",
       "  <thead>\n",
       "    <tr style=\"text-align: right;\">\n",
       "      <th></th>\n",
       "      <th>Days</th>\n",
       "      <th>Brand</th>\n",
       "      <th>Age</th>\n",
       "      <th>Sex</th>\n",
       "      <th>Score</th>\n",
       "    </tr>\n",
       "  </thead>\n",
       "  <tbody>\n",
       "    <tr>\n",
       "      <th>0</th>\n",
       "      <td>9</td>\n",
       "      <td>Beko</td>\n",
       "      <td>42.0</td>\n",
       "      <td>M</td>\n",
       "      <td>1.5</td>\n",
       "    </tr>\n",
       "    <tr>\n",
       "      <th>1</th>\n",
       "      <td>7</td>\n",
       "      <td>Dyson</td>\n",
       "      <td>56.0</td>\n",
       "      <td>M</td>\n",
       "      <td>3.5</td>\n",
       "    </tr>\n",
       "    <tr>\n",
       "      <th>2</th>\n",
       "      <td>9</td>\n",
       "      <td>Beko</td>\n",
       "      <td>33.0</td>\n",
       "      <td>M</td>\n",
       "      <td>2.0</td>\n",
       "    </tr>\n",
       "    <tr>\n",
       "      <th>3</th>\n",
       "      <td>8</td>\n",
       "      <td>Beko</td>\n",
       "      <td>41.0</td>\n",
       "      <td>M</td>\n",
       "      <td>5.0</td>\n",
       "    </tr>\n",
       "    <tr>\n",
       "      <th>4</th>\n",
       "      <td>8</td>\n",
       "      <td>Tefal</td>\n",
       "      <td>24.0</td>\n",
       "      <td>M</td>\n",
       "      <td>2.5</td>\n",
       "    </tr>\n",
       "    <tr>\n",
       "      <th>...</th>\n",
       "      <td>...</td>\n",
       "      <td>...</td>\n",
       "      <td>...</td>\n",
       "      <td>...</td>\n",
       "      <td>...</td>\n",
       "    </tr>\n",
       "    <tr>\n",
       "      <th>501</th>\n",
       "      <td>3</td>\n",
       "      <td>Beko</td>\n",
       "      <td>43.0</td>\n",
       "      <td>M</td>\n",
       "      <td>3.5</td>\n",
       "    </tr>\n",
       "    <tr>\n",
       "      <th>502</th>\n",
       "      <td>9</td>\n",
       "      <td>Samsung</td>\n",
       "      <td>42.0</td>\n",
       "      <td>M</td>\n",
       "      <td>1.5</td>\n",
       "    </tr>\n",
       "    <tr>\n",
       "      <th>503</th>\n",
       "      <td>9</td>\n",
       "      <td>Beko</td>\n",
       "      <td>NaN</td>\n",
       "      <td>M</td>\n",
       "      <td>1.5</td>\n",
       "    </tr>\n",
       "    <tr>\n",
       "      <th>504</th>\n",
       "      <td>6</td>\n",
       "      <td>Beko</td>\n",
       "      <td>32.0</td>\n",
       "      <td>M</td>\n",
       "      <td>1.0</td>\n",
       "    </tr>\n",
       "    <tr>\n",
       "      <th>505</th>\n",
       "      <td>5</td>\n",
       "      <td>Beko</td>\n",
       "      <td>44.0</td>\n",
       "      <td>M</td>\n",
       "      <td>3.5</td>\n",
       "    </tr>\n",
       "  </tbody>\n",
       "</table>\n",
       "<p>506 rows × 5 columns</p>\n",
       "</div>"
      ],
      "text/plain": [
       "     Days    Brand   Age Sex  Score\n",
       "0       9     Beko  42.0   M    1.5\n",
       "1       7    Dyson  56.0   M    3.5\n",
       "2       9     Beko  33.0   M    2.0\n",
       "3       8     Beko  41.0   M    5.0\n",
       "4       8    Tefal  24.0   M    2.5\n",
       "..    ...      ...   ...  ..    ...\n",
       "501     3     Beko  43.0   M    3.5\n",
       "502     9  Samsung  42.0   M    1.5\n",
       "503     9     Beko   NaN   M    1.5\n",
       "504     6     Beko  32.0   M    1.0\n",
       "505     5     Beko  44.0   M    3.5\n",
       "\n",
       "[506 rows x 5 columns]"
      ]
     },
     "execution_count": 14,
     "metadata": {},
     "output_type": "execute_result"
    }
   ],
   "source": [
    "# Importowanie\n",
    "from matplotlib import pyplot as plt\n",
    "import pandas as pd\n",
    "from statsmodels.distributions.empirical_distribution import ECDF\n",
    "import seaborn as sns\n",
    "\n",
    "# Wczytywanie danych\n",
    "data = pd.read_csv('../Analysis Data/new_data.csv')\n",
    "DF = pd.DataFrame(data)\n",
    "DF"
   ]
  },
  {
   "cell_type": "markdown",
   "id": "7ab2e7ca",
   "metadata": {},
   "source": [
    "### <b> Ogólny opis danych <b>"
   ]
  },
  {
   "cell_type": "code",
   "execution_count": 15,
   "id": "5ad29f21",
   "metadata": {},
   "outputs": [
    {
     "data": {
      "text/html": [
       "<div>\n",
       "<style scoped>\n",
       "    .dataframe tbody tr th:only-of-type {\n",
       "        vertical-align: middle;\n",
       "    }\n",
       "\n",
       "    .dataframe tbody tr th {\n",
       "        vertical-align: top;\n",
       "    }\n",
       "\n",
       "    .dataframe thead th {\n",
       "        text-align: right;\n",
       "    }\n",
       "</style>\n",
       "<table border=\"1\" class=\"dataframe\">\n",
       "  <thead>\n",
       "    <tr style=\"text-align: right;\">\n",
       "      <th></th>\n",
       "      <th>Days</th>\n",
       "      <th>Age</th>\n",
       "      <th>Score</th>\n",
       "    </tr>\n",
       "  </thead>\n",
       "  <tbody>\n",
       "    <tr>\n",
       "      <th>count</th>\n",
       "      <td>506.000000</td>\n",
       "      <td>458.000000</td>\n",
       "      <td>506.000000</td>\n",
       "    </tr>\n",
       "    <tr>\n",
       "      <th>mean</th>\n",
       "      <td>7.148221</td>\n",
       "      <td>39.554585</td>\n",
       "      <td>2.575099</td>\n",
       "    </tr>\n",
       "    <tr>\n",
       "      <th>std</th>\n",
       "      <td>2.619759</td>\n",
       "      <td>9.556367</td>\n",
       "      <td>1.075512</td>\n",
       "    </tr>\n",
       "    <tr>\n",
       "      <th>min</th>\n",
       "      <td>1.000000</td>\n",
       "      <td>18.000000</td>\n",
       "      <td>0.000000</td>\n",
       "    </tr>\n",
       "    <tr>\n",
       "      <th>25%</th>\n",
       "      <td>5.000000</td>\n",
       "      <td>33.000000</td>\n",
       "      <td>2.000000</td>\n",
       "    </tr>\n",
       "    <tr>\n",
       "      <th>50%</th>\n",
       "      <td>7.000000</td>\n",
       "      <td>40.000000</td>\n",
       "      <td>2.500000</td>\n",
       "    </tr>\n",
       "    <tr>\n",
       "      <th>75%</th>\n",
       "      <td>9.000000</td>\n",
       "      <td>45.000000</td>\n",
       "      <td>3.500000</td>\n",
       "    </tr>\n",
       "    <tr>\n",
       "      <th>max</th>\n",
       "      <td>15.000000</td>\n",
       "      <td>70.000000</td>\n",
       "      <td>5.000000</td>\n",
       "    </tr>\n",
       "  </tbody>\n",
       "</table>\n",
       "</div>"
      ],
      "text/plain": [
       "             Days         Age       Score\n",
       "count  506.000000  458.000000  506.000000\n",
       "mean     7.148221   39.554585    2.575099\n",
       "std      2.619759    9.556367    1.075512\n",
       "min      1.000000   18.000000    0.000000\n",
       "25%      5.000000   33.000000    2.000000\n",
       "50%      7.000000   40.000000    2.500000\n",
       "75%      9.000000   45.000000    3.500000\n",
       "max     15.000000   70.000000    5.000000"
      ]
     },
     "execution_count": 15,
     "metadata": {},
     "output_type": "execute_result"
    }
   ],
   "source": [
    "# Opis danych\n",
    "DF.describe()"
   ]
  },
  {
   "cell_type": "markdown",
   "id": "b162f982",
   "metadata": {},
   "source": [
    "#### <b> Z powyższego opisu można odczytać, iż średnio urządzenie zostało zakupione tydzień przed zebraniem informacji, wiek przeciętnego kupującego to 40, a średnia nota to 2.5 w skali od 0 do 5.<b>"
   ]
  },
  {
   "cell_type": "markdown",
   "id": "712290f5",
   "metadata": {},
   "source": [
    "### <b> Średnie oceny wszystkich producentów. <b>"
   ]
  },
  {
   "cell_type": "code",
   "execution_count": 16,
   "id": "5b90eed5",
   "metadata": {},
   "outputs": [
    {
     "data": {
      "image/png": "[encoded data removed]",
      "text/plain": [
       "<Figure size 432x288 with 1 Axes>"
      ]
     },
     "metadata": {
      "needs_background": "light"
     },
     "output_type": "display_data"
    },
    {
     "data": {
      "text/html": [
       "<div>\n",
       "<style scoped>\n",
       "    .dataframe tbody tr th:only-of-type {\n",
       "        vertical-align: middle;\n",
       "    }\n",
       "\n",
       "    .dataframe tbody tr th {\n",
       "        vertical-align: top;\n",
       "    }\n",
       "\n",
       "    .dataframe thead th {\n",
       "        text-align: right;\n",
       "    }\n",
       "</style>\n",
       "<table border=\"1\" class=\"dataframe\">\n",
       "  <thead>\n",
       "    <tr style=\"text-align: right;\">\n",
       "      <th></th>\n",
       "      <th>Score</th>\n",
       "    </tr>\n",
       "    <tr>\n",
       "      <th>Brand</th>\n",
       "      <th></th>\n",
       "    </tr>\n",
       "  </thead>\n",
       "  <tbody>\n",
       "    <tr>\n",
       "      <th>Beko</th>\n",
       "      <td>2.546875</td>\n",
       "    </tr>\n",
       "    <tr>\n",
       "      <th>Dyson</th>\n",
       "      <td>2.666667</td>\n",
       "    </tr>\n",
       "    <tr>\n",
       "      <th>Electrolux</th>\n",
       "      <td>2.777778</td>\n",
       "    </tr>\n",
       "    <tr>\n",
       "      <th>Samsung</th>\n",
       "      <td>2.701389</td>\n",
       "    </tr>\n",
       "    <tr>\n",
       "      <th>Tefal</th>\n",
       "      <td>2.187500</td>\n",
       "    </tr>\n",
       "  </tbody>\n",
       "</table>\n",
       "</div>"
      ],
      "text/plain": [
       "               Score\n",
       "Brand               \n",
       "Beko        2.546875\n",
       "Dyson       2.666667\n",
       "Electrolux  2.777778\n",
       "Samsung     2.701389\n",
       "Tefal       2.187500"
      ]
     },
     "execution_count": 16,
     "metadata": {},
     "output_type": "execute_result"
    }
   ],
   "source": [
    "# Wykres słupkowy producentów i ocen\n",
    "sns.barplot(data=DF, x=\"Brand\", y=\"Score\")\n",
    "plt.title('Średnia ocen dla każdego producenta')\n",
    "plt.show()\n",
    "\n",
    "# Tabela pokazująca średnią ocen producentów\n",
    "DF.groupby('Brand')[['Score']].mean()"
   ]
  },
  {
   "cell_type": "markdown",
   "id": "ded3e48c",
   "metadata": {},
   "source": [
    "#### <b> Jak pokazano na wykresie oraz w tabeli, średnia ocen firmy Tefal znacząco odbiega od reszty. Pozostałe noty oscylują wokół 2.7, natomaist wspomniany producent osiąga niechwalebne 2.2.<b>"
   ]
  },
  {
   "cell_type": "markdown",
   "id": "42aa5cd0",
   "metadata": {},
   "source": [
    "### <b> Oceny starszych osób <b>"
   ]
  },
  {
   "cell_type": "code",
   "execution_count": 17,
   "id": "c4aec2a3",
   "metadata": {},
   "outputs": [
    {
     "data": {
      "image/png": "[encoded data removed]",
      "text/plain": [
       "<Figure size 432x288 with 1 Axes>"
      ]
     },
     "metadata": {
      "needs_background": "light"
     },
     "output_type": "display_data"
    },
    {
     "name": "stdout",
     "output_type": "stream",
     "text": [
      "               Score\n",
      "Brand               \n",
      "Beko        2.512579\n",
      "Dyson       2.892857\n",
      "Electrolux  3.142857\n",
      "Samsung     2.611111\n",
      "Tefal       2.500000\n"
     ]
    },
    {
     "data": {
      "text/plain": [
       "Brand\n",
       "Beko          159\n",
       "Dyson          14\n",
       "Electrolux      7\n",
       "Samsung        36\n",
       "Tefal           3\n",
       "Name: Days, dtype: int64"
      ]
     },
     "execution_count": 17,
     "metadata": {},
     "output_type": "execute_result"
    }
   ],
   "source": [
    "# Nabywcy Electrolux powyżej 40 roku życia\n",
    "Older = DF[DF['Age'] > 40]\n",
    "Electrolux_Older = Older[Older['Brand'] == 'Electrolux']\n",
    "\n",
    "# Wykres pudełkowy\n",
    "Electrolux_Older[['Score']].boxplot(vert=False)\n",
    "plt.title('Wykres pudełkowy ocen Electrolux dla kupujących powyżej 40 roku życia')\n",
    "plt.show()\n",
    "\n",
    "# Tabla obrazująca średnią ocen dla starszych kupujących\n",
    "m_sc_old = Older.groupby('Brand')[['Score']].mean()\n",
    "print(m_sc_old)\n",
    "\n",
    "# Tabela pokazująca liczbę zakupów danego producenta dla osób starszych\n",
    "ct_old = Older.groupby('Brand')['Days'].count()\n",
    "ct_old"
   ]
  },
  {
   "cell_type": "markdown",
   "id": "a9abb357",
   "metadata": {},
   "source": [
    "#### <b> Zdecydowana wiekszość osób powyżej 40 roku wybrała firmę Beko, jednak jednocześnie ocenili ją niemal najniżej. Najlepiej oceniony przez te grupę został Electrolux, który nie otrzymał niższej noty niż 1.5, zaś jego średnia przekroczyła 3.<b>"
   ]
  },
  {
   "cell_type": "markdown",
   "id": "bee5f977",
   "metadata": {},
   "source": [
    "### <b> Wybory kobiet <b>"
   ]
  },
  {
   "cell_type": "code",
   "execution_count": 18,
   "id": "ebe0f84d",
   "metadata": {},
   "outputs": [
    {
     "data": {
      "text/html": [
       "<div>\n",
       "<style scoped>\n",
       "    .dataframe tbody tr th:only-of-type {\n",
       "        vertical-align: middle;\n",
       "    }\n",
       "\n",
       "    .dataframe tbody tr th {\n",
       "        vertical-align: top;\n",
       "    }\n",
       "\n",
       "    .dataframe thead th {\n",
       "        text-align: right;\n",
       "    }\n",
       "</style>\n",
       "<table border=\"1\" class=\"dataframe\">\n",
       "  <thead>\n",
       "    <tr style=\"text-align: right;\">\n",
       "      <th></th>\n",
       "      <th>Days</th>\n",
       "      <th>Age</th>\n",
       "      <th>Sex</th>\n",
       "      <th>Score</th>\n",
       "    </tr>\n",
       "    <tr>\n",
       "      <th>Brand</th>\n",
       "      <th></th>\n",
       "      <th></th>\n",
       "      <th></th>\n",
       "      <th></th>\n",
       "    </tr>\n",
       "  </thead>\n",
       "  <tbody>\n",
       "    <tr>\n",
       "      <th>Beko</th>\n",
       "      <td>5</td>\n",
       "      <td>5</td>\n",
       "      <td>5</td>\n",
       "      <td>5</td>\n",
       "    </tr>\n",
       "    <tr>\n",
       "      <th>Dyson</th>\n",
       "      <td>1</td>\n",
       "      <td>1</td>\n",
       "      <td>1</td>\n",
       "      <td>1</td>\n",
       "    </tr>\n",
       "    <tr>\n",
       "      <th>Samsung</th>\n",
       "      <td>1</td>\n",
       "      <td>1</td>\n",
       "      <td>1</td>\n",
       "      <td>1</td>\n",
       "    </tr>\n",
       "  </tbody>\n",
       "</table>\n",
       "</div>"
      ],
      "text/plain": [
       "         Days  Age  Sex  Score\n",
       "Brand                         \n",
       "Beko        5    5    5      5\n",
       "Dyson       1    1    1      1\n",
       "Samsung     1    1    1      1"
      ]
     },
     "execution_count": 18,
     "metadata": {},
     "output_type": "execute_result"
    }
   ],
   "source": [
    "# Tabela prezentująca wybory kobiet\n",
    "WM = DF[DF['Sex'] == 'K']\n",
    "WM.groupby('Brand').count()"
   ]
  },
  {
   "cell_type": "markdown",
   "id": "9c10c239",
   "metadata": {},
   "source": [
    "#### <b> Powyższa tabela nie jest do końca reprezentatywna ze względu na niewielką liczbę kobiet biorących udział w ankiecie, jednak jedyni producenci wybrani przez kobiety to: Beko, Dyson i Tefal, co więcej ponad 70% z nich wybrało Beko.<b>"
   ]
  },
  {
   "cell_type": "markdown",
   "id": "e7dd6a09",
   "metadata": {},
   "source": [
    "### <b> Długość użytkowania a zadowolenie <b>"
   ]
  },
  {
   "cell_type": "code",
   "execution_count": 19,
   "id": "649b468e",
   "metadata": {},
   "outputs": [
    {
     "data": {
      "image/png": "[encoded data removed]",
      "text/plain": [
       "<Figure size 1080x360 with 2 Axes>"
      ]
     },
     "metadata": {
      "needs_background": "light"
     },
     "output_type": "display_data"
    },
    {
     "data": {
      "text/plain": [
       "Brand\n",
       "Beko          2.375000\n",
       "Dyson         2.600000\n",
       "Electrolux    2.625000\n",
       "Samsung       2.676471\n",
       "Tefal         2.666667\n",
       "Name: Score, dtype: float64"
      ]
     },
     "execution_count": 19,
     "metadata": {},
     "output_type": "execute_result"
    }
   ],
   "source": [
    "# Osoby używające odkurzacza dłużej niż tydzień\n",
    "week = DF[DF['Days'] > 7]\n",
    "\n",
    "# Wykres słupkowy ocen producentów\n",
    "figure, axes = plt.subplots(1, 2)\n",
    "figure.tight_layout(pad=5.0)\n",
    "figure.set_figheight(5)\n",
    "figure.set_figwidth(15)\n",
    "sns.barplot(data=week, x=\"Brand\", y=\"Score\", ax=axes[0], order=['Beko', 'Tefal', 'Samsung', 'Electrolux', 'Dyson'])\n",
    "sns.barplot(data=DF, x=\"Brand\", y=\"Score\", ax=axes[1], order=['Beko', 'Tefal', 'Samsung', 'Electrolux', 'Dyson'])\n",
    "plt.suptitle('Średnia ocen dla każdego producenta')\n",
    "axes[0].title.set_text('Kupujący ze stażem dłuższym niż tydzień')\n",
    "axes[1].title.set_text('Wszyscy kupujący')\n",
    "plt.show()\n",
    "\n",
    "# Tabela z ocenami producentów\n",
    "week.groupby('Brand')['Score'].mean()"
   ]
  },
  {
   "cell_type": "markdown",
   "id": "5b0d4582",
   "metadata": {},
   "source": [
    "#### <b> Bardzo ciekawym zjawiskiem jest fakt, że osoby korzystające z urządzenia dłużej niż tydzien zdecydowanie lepiej oceniają firmę Tefal. Tefal ma zdecydowanie niższą średnia względem wszystkich badanych, jednak ci z większym doświadczeniem w używaniu urządzenia oceniają właśnie tego producenta lepiej.<b>"
   ]
  },
  {
   "cell_type": "markdown",
   "id": "1da78046",
   "metadata": {},
   "source": [
    "### <b> Najstarsi i najmłodsi <b>"
   ]
  },
  {
   "cell_type": "code",
   "execution_count": 22,
   "id": "2b041650",
   "metadata": {},
   "outputs": [
    {
     "data": {
      "image/png": "[encoded data removed]",
      "text/plain": [
       "<Figure size 432x288 with 1 Axes>"
      ]
     },
     "metadata": {
      "needs_background": "light"
     },
     "output_type": "display_data"
    },
    {
     "data": {
      "image/png": "[encoded data removed]",
      "text/plain": [
       "<Figure size 1080x360 with 2 Axes>"
      ]
     },
     "metadata": {
      "needs_background": "light"
     },
     "output_type": "display_data"
    },
    {
     "data": {
      "image/png": "[encoded data removed]",
      "text/plain": [
       "<Figure size 1080x360 with 2 Axes>"
      ]
     },
     "metadata": {
      "needs_background": "light"
     },
     "output_type": "display_data"
    }
   ],
   "source": [
    "# Grupa najstarszych i najmłodszych\n",
    "Younger = DF[DF['Age'] < 25]\n",
    "Older = DF[DF['Age'] > 50]\n",
    "\n",
    "# Wykres ocen dla grupy wiekowej\n",
    "DF.plot.scatter(x='Age',y='Score',marker='o')\n",
    "plt.suptitle('Oceny ze względu na wiek')\n",
    "plt.show()\n",
    "\n",
    "# Histogramy i histogramy skumulowane dla obu grup\n",
    "ecdf = ECDF(Younger['Age'])\n",
    "figure, axes = plt.subplots(1, 2)\n",
    "figure.tight_layout(pad=5.0)\n",
    "figure.set_figheight(5)\n",
    "figure.set_figwidth(15)\n",
    "Younger['Score'].hist(ax=axes[0])\n",
    "plt.plot(ecdf.x, ecdf.y)\n",
    "plt.suptitle('Oceny kupujących młodszych niż 25 lat')\n",
    "axes[0].title.set_text('Histogram')\n",
    "axes[1].title.set_text('Histogram skumulowany')\n",
    "plt.show()\n",
    "\n",
    "ecdf = ECDF(Older['Age'])\n",
    "figure, axes = plt.subplots(1, 2)\n",
    "figure.tight_layout(pad=5.0)\n",
    "figure.set_figheight(5)\n",
    "figure.set_figwidth(15)\n",
    "Older['Score'].hist(ax=axes[0])\n",
    "plt.plot(ecdf.x, ecdf.y)\n",
    "plt.suptitle('Oceny kupujących starszych niż 50 lat')\n",
    "axes[0].title.set_text('Histogram')\n",
    "axes[1].title.set_text('Histogram skumulowany')\n",
    "plt.show()"
   ]
  },
  {
   "cell_type": "markdown",
   "id": "32df5e63",
   "metadata": {},
   "source": [
    "#### <b> Można zauważyć, że najmłodsza grupa kupująych stroni od wystawiania najgorszej oceny, zamiast tego względnie często wystawia ocene najwyższą. Grupa najstrasza natomiast, nie wystawia ani ocen najlepszych ani najgorszych. Dobrze obrazują to wklęsłość i wypukłość histogramów skumulowanych dla obu tych grup wiekowych. <b>"
   ]
  },
  {
   "cell_type": "markdown",
   "id": "366868d0",
   "metadata": {},
   "source": [
    "### <b> Dokładna analiza każdego producenta <b>"
   ]
  },
  {
   "cell_type": "code",
   "execution_count": 21,
   "id": "3ee7d9db",
   "metadata": {},
   "outputs": [
    {
     "data": {
      "image/png": "[encoded data removed]",
      "text/plain": [
       "<Figure size 432x288 with 1 Axes>"
      ]
     },
     "metadata": {
      "needs_background": "light"
     },
     "output_type": "display_data"
    },
    {
     "data": {
      "image/png": "[encoded data removed]",
      "text/plain": [
       "<Figure size 432x288 with 1 Axes>"
      ]
     },
     "metadata": {
      "needs_background": "light"
     },
     "output_type": "display_data"
    },
    {
     "data": {
      "image/png": "[encoded data removed]",
      "text/plain": [
       "<Figure size 432x288 with 1 Axes>"
      ]
     },
     "metadata": {
      "needs_background": "light"
     },
     "output_type": "display_data"
    },
    {
     "data": {
      "image/png": "[encoded data removed]",
      "text/plain": [
       "<Figure size 432x288 with 1 Axes>"
      ]
     },
     "metadata": {
      "needs_background": "light"
     },
     "output_type": "display_data"
    },
    {
     "data": {
      "image/png": "[encoded data removed]",
      "text/plain": [
       "<Figure size 432x288 with 1 Axes>"
      ]
     },
     "metadata": {
      "needs_background": "light"
     },
     "output_type": "display_data"
    }
   ],
   "source": [
    "# Grupy które kupiły danego producenta\n",
    "Beko = DF[DF['Brand'] == 'Beko']\n",
    "Tefal = DF[DF['Brand'] == 'Tefal']\n",
    "Electrolux = DF[DF['Brand'] == 'Electrolux']\n",
    "Samsung = DF[DF['Brand'] == 'Samsung']\n",
    "Dyson = DF[DF['Brand'] == 'Dyson']\n",
    "\n",
    "# Wykresy pudełkowe\n",
    "Beko[['Score']].boxplot(vert=False)\n",
    "plt.title('Wykres pudełkowy ocen Beko')\n",
    "plt.show()\n",
    "Tefal[['Score']].boxplot(vert=False)\n",
    "plt.title('Wykres pudełkowy ocen Tefal')\n",
    "plt.show()\n",
    "Electrolux[['Score']].boxplot(vert=False)\n",
    "plt.title('Wykres pudełkowy ocen Electrolux')\n",
    "plt.show()\n",
    "Samsung[['Score']].boxplot(vert=False)\n",
    "plt.title('Wykres pudełkowy ocen Samsung')\n",
    "plt.show()\n",
    "Dyson[['Score']].boxplot(vert=False)\n",
    "plt.title('Wykres pudełkowy ocen Dyson')\n",
    "plt.show()"
   ]
  },
  {
   "cell_type": "markdown",
   "id": "1b750c09",
   "metadata": {},
   "source": [
    "#### <b> Na wykresach pudełkowych można zauważyć kilka rzeczy, przede wszystkim producenci Dyson, Electrolux oraz Tefal nie otrzymali oceny 0, dwaj pierwsi nie otrzymali oceny niższej niż 1. Najmniejszy rozstrzał ma oceny Electrolux, 25 oraz 75 kwantyl są od siebie oddalone o 1, natomiast Tefal nie otrzymał nigdy oceny wyższej niż 4. <b>"
   ]
  }
 ],
 "metadata": {
  "kernelspec": {
   "display_name": "Python 3",
   "language": "python",
   "name": "python3"
  },
  "language_info": {
   "codemirror_mode": {
    "name": "ipython",
    "version": 3
   },
   "file_extension": ".py",
   "mimetype": "text/x-python",
   "name": "python",
   "nbconvert_exporter": "python",
   "pygments_lexer": "ipython3",
   "version": "3.8.8"
  }
 },
 "nbformat": 4,
 "nbformat_minor": 5
}
