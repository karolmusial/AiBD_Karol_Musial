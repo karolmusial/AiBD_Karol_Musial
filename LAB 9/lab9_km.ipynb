{
 "cells": [
  {
   "cell_type": "markdown",
   "id": "2b4c035f",
   "metadata": {},
   "source": [
    "# Analiza i Bazy Danych\n",
    "## Karol Musiał, grupa 3a\n",
    "### Laboratorium 9\n",
    "## \"Naiwny klasyfikator bayesowski\""
   ]
  },
  {
   "cell_type": "code",
   "execution_count": 9,
   "id": "c334b371",
   "metadata": {},
   "outputs": [],
   "source": [
    "# Import modułów\n",
    "import numpy as np\n",
    "import pandas as pd \n",
    "import matplotlib.pyplot as plt\n",
    "import seaborn as sns \n",
    "from sklearn.model_selection import train_test_split\n",
    "import category_encoders as ce\n",
    "from sklearn.naive_bayes import GaussianNB\n",
    "from sklearn.metrics import confusion_matrix, plot_confusion_matrix, ConfusionMatrixDisplay"
   ]
  },
  {
   "cell_type": "code",
   "execution_count": 10,
   "id": "f91d6753",
   "metadata": {},
   "outputs": [
    {
     "data": {
      "text/html": [
       "<div>\n",
       "<style scoped>\n",
       "    .dataframe tbody tr th:only-of-type {\n",
       "        vertical-align: middle;\n",
       "    }\n",
       "\n",
       "    .dataframe tbody tr th {\n",
       "        vertical-align: top;\n",
       "    }\n",
       "\n",
       "    .dataframe thead th {\n",
       "        text-align: right;\n",
       "    }\n",
       "</style>\n",
       "<table border=\"1\" class=\"dataframe\">\n",
       "  <thead>\n",
       "    <tr style=\"text-align: right;\">\n",
       "      <th></th>\n",
       "      <th>age</th>\n",
       "      <th>workclass</th>\n",
       "      <th>fnlwgt</th>\n",
       "      <th>education</th>\n",
       "      <th>education_num</th>\n",
       "      <th>marital_status</th>\n",
       "      <th>occupation</th>\n",
       "      <th>relationship</th>\n",
       "      <th>race</th>\n",
       "      <th>sex</th>\n",
       "      <th>capital_gain</th>\n",
       "      <th>capital_loss</th>\n",
       "      <th>hours_per_week</th>\n",
       "      <th>native_country</th>\n",
       "      <th>income</th>\n",
       "    </tr>\n",
       "  </thead>\n",
       "  <tbody>\n",
       "    <tr>\n",
       "      <th>0</th>\n",
       "      <td>39</td>\n",
       "      <td>State-gov</td>\n",
       "      <td>77516</td>\n",
       "      <td>Bachelors</td>\n",
       "      <td>13</td>\n",
       "      <td>Never-married</td>\n",
       "      <td>Adm-clerical</td>\n",
       "      <td>Not-in-family</td>\n",
       "      <td>White</td>\n",
       "      <td>Male</td>\n",
       "      <td>2174</td>\n",
       "      <td>0</td>\n",
       "      <td>40</td>\n",
       "      <td>United-States</td>\n",
       "      <td>&lt;=50K</td>\n",
       "    </tr>\n",
       "    <tr>\n",
       "      <th>1</th>\n",
       "      <td>50</td>\n",
       "      <td>Self-emp-not-inc</td>\n",
       "      <td>83311</td>\n",
       "      <td>Bachelors</td>\n",
       "      <td>13</td>\n",
       "      <td>Married-civ-spouse</td>\n",
       "      <td>Exec-managerial</td>\n",
       "      <td>Husband</td>\n",
       "      <td>White</td>\n",
       "      <td>Male</td>\n",
       "      <td>0</td>\n",
       "      <td>0</td>\n",
       "      <td>13</td>\n",
       "      <td>United-States</td>\n",
       "      <td>&lt;=50K</td>\n",
       "    </tr>\n",
       "    <tr>\n",
       "      <th>2</th>\n",
       "      <td>38</td>\n",
       "      <td>Private</td>\n",
       "      <td>215646</td>\n",
       "      <td>HS-grad</td>\n",
       "      <td>9</td>\n",
       "      <td>Divorced</td>\n",
       "      <td>Handlers-cleaners</td>\n",
       "      <td>Not-in-family</td>\n",
       "      <td>White</td>\n",
       "      <td>Male</td>\n",
       "      <td>0</td>\n",
       "      <td>0</td>\n",
       "      <td>40</td>\n",
       "      <td>United-States</td>\n",
       "      <td>&lt;=50K</td>\n",
       "    </tr>\n",
       "    <tr>\n",
       "      <th>3</th>\n",
       "      <td>53</td>\n",
       "      <td>Private</td>\n",
       "      <td>234721</td>\n",
       "      <td>11th</td>\n",
       "      <td>7</td>\n",
       "      <td>Married-civ-spouse</td>\n",
       "      <td>Handlers-cleaners</td>\n",
       "      <td>Husband</td>\n",
       "      <td>Black</td>\n",
       "      <td>Male</td>\n",
       "      <td>0</td>\n",
       "      <td>0</td>\n",
       "      <td>40</td>\n",
       "      <td>United-States</td>\n",
       "      <td>&lt;=50K</td>\n",
       "    </tr>\n",
       "    <tr>\n",
       "      <th>4</th>\n",
       "      <td>28</td>\n",
       "      <td>Private</td>\n",
       "      <td>338409</td>\n",
       "      <td>Bachelors</td>\n",
       "      <td>13</td>\n",
       "      <td>Married-civ-spouse</td>\n",
       "      <td>Prof-specialty</td>\n",
       "      <td>Wife</td>\n",
       "      <td>Black</td>\n",
       "      <td>Female</td>\n",
       "      <td>0</td>\n",
       "      <td>0</td>\n",
       "      <td>40</td>\n",
       "      <td>Cuba</td>\n",
       "      <td>&lt;=50K</td>\n",
       "    </tr>\n",
       "    <tr>\n",
       "      <th>...</th>\n",
       "      <td>...</td>\n",
       "      <td>...</td>\n",
       "      <td>...</td>\n",
       "      <td>...</td>\n",
       "      <td>...</td>\n",
       "      <td>...</td>\n",
       "      <td>...</td>\n",
       "      <td>...</td>\n",
       "      <td>...</td>\n",
       "      <td>...</td>\n",
       "      <td>...</td>\n",
       "      <td>...</td>\n",
       "      <td>...</td>\n",
       "      <td>...</td>\n",
       "      <td>...</td>\n",
       "    </tr>\n",
       "    <tr>\n",
       "      <th>32556</th>\n",
       "      <td>27</td>\n",
       "      <td>Private</td>\n",
       "      <td>257302</td>\n",
       "      <td>Assoc-acdm</td>\n",
       "      <td>12</td>\n",
       "      <td>Married-civ-spouse</td>\n",
       "      <td>Tech-support</td>\n",
       "      <td>Wife</td>\n",
       "      <td>White</td>\n",
       "      <td>Female</td>\n",
       "      <td>0</td>\n",
       "      <td>0</td>\n",
       "      <td>38</td>\n",
       "      <td>United-States</td>\n",
       "      <td>&lt;=50K</td>\n",
       "    </tr>\n",
       "    <tr>\n",
       "      <th>32557</th>\n",
       "      <td>40</td>\n",
       "      <td>Private</td>\n",
       "      <td>154374</td>\n",
       "      <td>HS-grad</td>\n",
       "      <td>9</td>\n",
       "      <td>Married-civ-spouse</td>\n",
       "      <td>Machine-op-inspct</td>\n",
       "      <td>Husband</td>\n",
       "      <td>White</td>\n",
       "      <td>Male</td>\n",
       "      <td>0</td>\n",
       "      <td>0</td>\n",
       "      <td>40</td>\n",
       "      <td>United-States</td>\n",
       "      <td>&gt;50K</td>\n",
       "    </tr>\n",
       "    <tr>\n",
       "      <th>32558</th>\n",
       "      <td>58</td>\n",
       "      <td>Private</td>\n",
       "      <td>151910</td>\n",
       "      <td>HS-grad</td>\n",
       "      <td>9</td>\n",
       "      <td>Widowed</td>\n",
       "      <td>Adm-clerical</td>\n",
       "      <td>Unmarried</td>\n",
       "      <td>White</td>\n",
       "      <td>Female</td>\n",
       "      <td>0</td>\n",
       "      <td>0</td>\n",
       "      <td>40</td>\n",
       "      <td>United-States</td>\n",
       "      <td>&lt;=50K</td>\n",
       "    </tr>\n",
       "    <tr>\n",
       "      <th>32559</th>\n",
       "      <td>22</td>\n",
       "      <td>Private</td>\n",
       "      <td>201490</td>\n",
       "      <td>HS-grad</td>\n",
       "      <td>9</td>\n",
       "      <td>Never-married</td>\n",
       "      <td>Adm-clerical</td>\n",
       "      <td>Own-child</td>\n",
       "      <td>White</td>\n",
       "      <td>Male</td>\n",
       "      <td>0</td>\n",
       "      <td>0</td>\n",
       "      <td>20</td>\n",
       "      <td>United-States</td>\n",
       "      <td>&lt;=50K</td>\n",
       "    </tr>\n",
       "    <tr>\n",
       "      <th>32560</th>\n",
       "      <td>52</td>\n",
       "      <td>Self-emp-inc</td>\n",
       "      <td>287927</td>\n",
       "      <td>HS-grad</td>\n",
       "      <td>9</td>\n",
       "      <td>Married-civ-spouse</td>\n",
       "      <td>Exec-managerial</td>\n",
       "      <td>Wife</td>\n",
       "      <td>White</td>\n",
       "      <td>Female</td>\n",
       "      <td>15024</td>\n",
       "      <td>0</td>\n",
       "      <td>40</td>\n",
       "      <td>United-States</td>\n",
       "      <td>&gt;50K</td>\n",
       "    </tr>\n",
       "  </tbody>\n",
       "</table>\n",
       "<p>32561 rows × 15 columns</p>\n",
       "</div>"
      ],
      "text/plain": [
       "       age          workclass  fnlwgt    education  education_num  \\\n",
       "0       39          State-gov   77516    Bachelors             13   \n",
       "1       50   Self-emp-not-inc   83311    Bachelors             13   \n",
       "2       38            Private  215646      HS-grad              9   \n",
       "3       53            Private  234721         11th              7   \n",
       "4       28            Private  338409    Bachelors             13   \n",
       "...    ...                ...     ...          ...            ...   \n",
       "32556   27            Private  257302   Assoc-acdm             12   \n",
       "32557   40            Private  154374      HS-grad              9   \n",
       "32558   58            Private  151910      HS-grad              9   \n",
       "32559   22            Private  201490      HS-grad              9   \n",
       "32560   52       Self-emp-inc  287927      HS-grad              9   \n",
       "\n",
       "            marital_status          occupation    relationship    race  \\\n",
       "0            Never-married        Adm-clerical   Not-in-family   White   \n",
       "1       Married-civ-spouse     Exec-managerial         Husband   White   \n",
       "2                 Divorced   Handlers-cleaners   Not-in-family   White   \n",
       "3       Married-civ-spouse   Handlers-cleaners         Husband   Black   \n",
       "4       Married-civ-spouse      Prof-specialty            Wife   Black   \n",
       "...                    ...                 ...             ...     ...   \n",
       "32556   Married-civ-spouse        Tech-support            Wife   White   \n",
       "32557   Married-civ-spouse   Machine-op-inspct         Husband   White   \n",
       "32558              Widowed        Adm-clerical       Unmarried   White   \n",
       "32559        Never-married        Adm-clerical       Own-child   White   \n",
       "32560   Married-civ-spouse     Exec-managerial            Wife   White   \n",
       "\n",
       "           sex  capital_gain  capital_loss  hours_per_week  native_country  \\\n",
       "0         Male          2174             0              40   United-States   \n",
       "1         Male             0             0              13   United-States   \n",
       "2         Male             0             0              40   United-States   \n",
       "3         Male             0             0              40   United-States   \n",
       "4       Female             0             0              40            Cuba   \n",
       "...        ...           ...           ...             ...             ...   \n",
       "32556   Female             0             0              38   United-States   \n",
       "32557     Male             0             0              40   United-States   \n",
       "32558   Female             0             0              40   United-States   \n",
       "32559     Male             0             0              20   United-States   \n",
       "32560   Female         15024             0              40   United-States   \n",
       "\n",
       "       income  \n",
       "0       <=50K  \n",
       "1       <=50K  \n",
       "2       <=50K  \n",
       "3       <=50K  \n",
       "4       <=50K  \n",
       "...       ...  \n",
       "32556   <=50K  \n",
       "32557    >50K  \n",
       "32558   <=50K  \n",
       "32559   <=50K  \n",
       "32560    >50K  \n",
       "\n",
       "[32561 rows x 15 columns]"
      ]
     },
     "execution_count": 10,
     "metadata": {},
     "output_type": "execute_result"
    }
   ],
   "source": [
    "# Wczytanie pliku csv\n",
    "df = pd.read_csv('data.csv', sep=',')\n",
    "df"
   ]
  },
  {
   "cell_type": "code",
   "execution_count": 11,
   "id": "6d2b54a3",
   "metadata": {},
   "outputs": [
    {
     "name": "stdout",
     "output_type": "stream",
     "text": [
      "Dane tektowe zawierają kolumny :\n",
      "\n",
      " ['workclass', 'education', 'marital_status', 'occupation', 'relationship', 'race', 'sex', 'native_country', 'income']\n"
     ]
    }
   ],
   "source": [
    "# Sprawdzanie kolumn z danymi tekstowymi\n",
    "categorical = [df.columns[i] for i in range(len(df.columns)) if df.dtypes[i]=='object']\n",
    "print('Dane tektowe zawierają kolumny :\\n\\n', categorical)"
   ]
  },
  {
   "cell_type": "code",
   "execution_count": 12,
   "id": "77dbc58c",
   "metadata": {},
   "outputs": [
    {
     "data": {
      "text/plain": [
       "workclass         0\n",
       "education         0\n",
       "marital_status    0\n",
       "occupation        0\n",
       "relationship      0\n",
       "race              0\n",
       "sex               0\n",
       "native_country    0\n",
       "income            0\n",
       "dtype: int64"
      ]
     },
     "execution_count": 12,
     "metadata": {},
     "output_type": "execute_result"
    }
   ],
   "source": [
    "# Uzupełnienie braków w kolumnach\n",
    "df\n",
    "df[categorical].isnull().sum()"
   ]
  },
  {
   "cell_type": "markdown",
   "id": "6e7dfbf2",
   "metadata": {},
   "source": [
    "#### <b> Dane są w znaczącej wiekszości kompletne i nie wymagają żadnych operacji .<b>"
   ]
  },
  {
   "cell_type": "markdown",
   "id": "340321be",
   "metadata": {},
   "source": [
    "### <b> Model klasyfikujący ze względu na dochód. <b>"
   ]
  },
  {
   "cell_type": "code",
   "execution_count": 13,
   "id": "6ab7dcc9",
   "metadata": {},
   "outputs": [],
   "source": [
    "# Tworzenie zbiorów uczacych i testowych\n",
    "X = df.iloc[:, 0:14]\n",
    "y = df['income']\n",
    "X_train, X_test, y_train, y_test = train_test_split(X, y, test_size=0.3, random_state=0)"
   ]
  },
  {
   "cell_type": "code",
   "execution_count": 14,
   "id": "4d7cf8dd",
   "metadata": {},
   "outputs": [],
   "source": [
    "# Kodowanie zmiennych tekstowych na wartości liczbowe\n",
    "encoder = ce.OneHotEncoder()\n",
    "X_train = encoder.fit_transform(X_train)\n",
    "X_test = encoder.transform(X_test)"
   ]
  },
  {
   "cell_type": "code",
   "execution_count": 15,
   "id": "f68e0015",
   "metadata": {},
   "outputs": [
    {
     "name": "stdout",
     "output_type": "stream",
     "text": [
      "\n",
      "Wynik przewidziany przez model\n",
      "[' <=50K' ' <=50K' ' <=50K' ... ' >50K' ' <=50K' ' <=50K']\n",
      "\n",
      "Wynik rzeczywisty\n",
      "[' <=50K' ' <=50K' ' <=50K' ... ' >50K' ' <=50K' ' <=50K']\n",
      "\n",
      "Dokładność modelu wynosi: 79.74%\n",
      "\n",
      "Confusion Matrix:\n",
      "[[7041  366]\n",
      " [1613  749]]\n"
     ]
    },
    {
     "data": {
      "image/png": "[encoded data removed]",
      "text/plain": [
       "<Figure size 432x288 with 2 Axes>"
      ]
     },
     "metadata": {
      "needs_background": "light"
     },
     "output_type": "display_data"
    }
   ],
   "source": [
    "# Klasyfikacja danych ze zbiorów testowych i treningowych \n",
    "GNB = GaussianNB()\n",
    "GNB.fit(X_train, y_train)\n",
    "y_pred = GNB.predict(X_test)\n",
    "\n",
    "# Porównanie wyników\n",
    "print(\"\\nWynik przewidziany przez model\")\n",
    "print(y_pred)\n",
    "print(\"\\nWynik rzeczywisty\")\n",
    "print(np.array(y_test).reshape(1, -1)[0])\n",
    "\n",
    "# Dokładność modelu\n",
    "acc = GNB.score(X_test, y_test)\n",
    "print(\"\\nDokładność modelu wynosi: {a:.4}%\\n\".format(a = acc*100))\n",
    "\n",
    "# Macierz błedu\n",
    "c_matrix = confusion_matrix(y_test, y_pred)\n",
    "print(\"Confusion Matrix:\")\n",
    "print(c_matrix)\n",
    "disp = ConfusionMatrixDisplay(confusion_matrix=c_matrix, display_labels=GNB.classes_)\n",
    "disp.plot()\n",
    "plt.show()"
   ]
  },
  {
   "cell_type": "markdown",
   "id": "64c4b741",
   "metadata": {},
   "source": [
    "#### <b> Model przypisywał obiekty do jednej z dwóch klas: '<=50K' (I) oraz '>50K' (II). Z macierzy błedu możemy wyczytać, iż 7041 elementów zostało poprawnie przypisanych do klasy I, 749 poprawnie do klasy II, 366 błędnie do klasy I, a 1613 błędnie do klasy II. <b>"
   ]
  },
  {
   "cell_type": "markdown",
   "id": "042e935d",
   "metadata": {},
   "source": [
    "### <b> Model klasyfikujący ze względu na rasę. <b>"
   ]
  },
  {
   "cell_type": "code",
   "execution_count": 16,
   "id": "b32fc5c1",
   "metadata": {},
   "outputs": [
    {
     "name": "stdout",
     "output_type": "stream",
     "text": [
      "\n",
      "Wynik przewidziany przez model\n",
      "[' White' ' White' ' White' ... ' White' ' White' ' White']\n",
      "\n",
      "Wynik rzeczywisty\n",
      "[' White' ' White' ' White' ... ' Asian-Pac-Islander' ' White' ' White']\n",
      "\n",
      "Dokładność modelu wynosi: 84.79%\n",
      "\n",
      "Confusion Matrix:\n",
      "[[   0    1    0    0   79]\n",
      " [   0    2    1    0  315]\n",
      " [   0    4   62    0  845]\n",
      " [   0    0    1    0   71]\n",
      " [   0   44  125    0 8219]]\n"
     ]
    },
    {
     "data": {
      "image/png": "[encoded data removed]",
      "text/plain": [
       "<Figure size 720x720 with 2 Axes>"
      ]
     },
     "metadata": {
      "needs_background": "light"
     },
     "output_type": "display_data"
    }
   ],
   "source": [
    "# Tworzenie zbiorów uczacych i testowych\n",
    "X = df.iloc[:, [0, 1, 2, 3, 4, 5, 6, 7, 9, 10, 11, 12, 13, 14,]]\n",
    "y = df['race']\n",
    "X_train, X_test, y_train, y_test = train_test_split(X, y, test_size=0.3, random_state=0)\n",
    "\n",
    "# Kodowanie zmiennych tekstowych na wartości liczbowe\n",
    "encoder = ce.OneHotEncoder()\n",
    "X_train = encoder.fit_transform(X_train)\n",
    "X_test = encoder.transform(X_test)\n",
    "\n",
    "# Klasyfikacja danych ze zbiorów testowych i treningowych \n",
    "GNB = GaussianNB()\n",
    "GNB.fit(X_train, y_train)\n",
    "y_pred = GNB.predict(X_test)\n",
    "\n",
    "# Porównanie wyników\n",
    "print(\"\\nWynik przewidziany przez model\")\n",
    "print(y_pred)\n",
    "print(\"\\nWynik rzeczywisty\")\n",
    "print(np.array(y_test))\n",
    "\n",
    "# Dokładność modelu\n",
    "c_matrix = confusion_matrix(y_test, y_pred)\n",
    "acc = (np.trace(c_matrix))/(c_matrix.sum().sum()) * 100\n",
    "print(\"\\nDokładność modelu wynosi: {a:.4}%\\n\".format(a = acc))\n",
    "\n",
    "# Macierz błedu\n",
    "print(\"Confusion Matrix:\")\n",
    "print(c_matrix)\n",
    "fig, ax = plt.subplots(figsize=(10, 10))\n",
    "plot_confusion_matrix(GNB, X_test, y_test, ax=ax)\n",
    "plt.show()"
   ]
  },
  {
   "cell_type": "markdown",
   "id": "d711d0b2",
   "metadata": {},
   "source": [
    "#### <b> Model przypisywał do obiektu jedną z 5 ras. Na przekątnej macierzy znajdują się poprawnie przypisane rasy, natomiast w poszczególnych kolumnach (poza przekątną) rasa z wiersza błędnie zinterpretowana jako rasa z kolumny, np. w wierszu 2, kolumnie 5 są osoby czarne błędnie sklasyfikowane jako osoby białe. <b>"
   ]
  },
  {
   "cell_type": "markdown",
   "id": "1dddf864",
   "metadata": {},
   "source": [
    "### <b> Model klasyfikujący ze względu na kraj pochodzenia. <b>"
   ]
  },
  {
   "cell_type": "code",
   "execution_count": 17,
   "id": "1b490147",
   "metadata": {},
   "outputs": [
    {
     "name": "stdout",
     "output_type": "stream",
     "text": [
      "\n",
      "Wynik przewidziany przez model\n",
      "[' Hong' ' Hong' ' Hong' ... ' United-States' ' Hong' ' Hong']\n",
      "\n",
      "Wynik rzeczywisty\n",
      "[' United-States' ' United-States' ' United-States' ... ' ?'\n",
      " ' United-States' ' United-States']\n",
      "\n",
      "Dokładność modelu wynosi: 5.64%\n",
      "\n",
      "Confusion Matrix:\n",
      "[[   0    0    0 ...   11    0   26]\n",
      " [   0    0    0 ...    0    0    1]\n",
      " [   0    0    0 ...    1    0    4]\n",
      " ...\n",
      " [   0    0    0 ...  541    0 1188]\n",
      " [   0    0    0 ...    2    0    0]\n",
      " [   0    0    0 ...    1    0    1]]\n"
     ]
    },
    {
     "data": {
      "image/png": "[encoded data removed]",
      "text/plain": [
       "<Figure size 720x720 with 2 Axes>"
      ]
     },
     "metadata": {
      "needs_background": "light"
     },
     "output_type": "display_data"
    }
   ],
   "source": [
    "# Tworzenie zbiorów uczacych i testowych\n",
    "X = df.iloc[:, [0, 1, 2, 3, 4, 5, 6, 7, 8, 9, 10, 11, 12, 14,]]\n",
    "y = df['native_country']\n",
    "X_train, X_test, y_train, y_test = train_test_split(X, y, test_size=0.3, random_state=0)\n",
    "\n",
    "# Kodowanie zmiennych tekstowych na wartości liczbowe\n",
    "encoder = ce.OneHotEncoder()\n",
    "X_train = encoder.fit_transform(X_train)\n",
    "X_test = encoder.transform(X_test)\n",
    "\n",
    "# Klasyfikacja danych ze zbiorów testowych i treningowych \n",
    "GNB = GaussianNB()\n",
    "GNB.fit(X_train, y_train)\n",
    "y_pred = GNB.predict(X_test)\n",
    "\n",
    "# Porównanie wyników\n",
    "print(\"\\nWynik przewidziany przez model\")\n",
    "print(y_pred)\n",
    "print(\"\\nWynik rzeczywisty\")\n",
    "print(np.array(y_test))\n",
    "\n",
    "# Dokładność modelu\n",
    "c_matrix = confusion_matrix(y_test, y_pred)\n",
    "acc = (np.trace(c_matrix))/(c_matrix.sum().sum()) * 100\n",
    "print(\"\\nDokładność modelu wynosi: {a:.4}%\\n\".format(a = acc))\n",
    "\n",
    "# Macierz błedu\n",
    "print(\"Confusion Matrix:\")\n",
    "print(c_matrix)\n",
    "fig, ax = plt.subplots(figsize=(10, 10))\n",
    "plot_confusion_matrix(GNB, X_test, y_test, ax=ax)\n",
    "plt.show()"
   ]
  },
  {
   "cell_type": "markdown",
   "id": "c465f964",
   "metadata": {},
   "source": [
    "#### <b> Wyniki są cięznie do interpretacji. Dokładność modelu jest bardzo niewielka, zaledwie 5.64%, można to również odczytać z macierzy błędów (jej analiza jest tożsama z poprzednimi przykładami). Można wysnuć wniosek, że to podejście nie radzi sobie z klasyfikacja obiektów kiedy jest wiele klas, w tym przypadku było ich 40. <b>"
   ]
  }
 ],
 "metadata": {
  "kernelspec": {
   "display_name": "Python 3",
   "language": "python",
   "name": "python3"
  },
  "language_info": {
   "codemirror_mode": {
    "name": "ipython",
    "version": 3
   },
   "file_extension": ".py",
   "mimetype": "text/x-python",
   "name": "python",
   "nbconvert_exporter": "python",
   "pygments_lexer": "ipython3",
   "version": "3.9.4"
  }
 },
 "nbformat": 4,
 "nbformat_minor": 5
}
