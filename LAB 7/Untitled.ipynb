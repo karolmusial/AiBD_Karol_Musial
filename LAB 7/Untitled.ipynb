{
 "cells": [
  {
   "cell_type": "code",
   "execution_count": 40,
   "id": "66936484",
   "metadata": {},
   "outputs": [],
   "source": [
    "# Import Modułów\n",
    "import pandas as pd\n",
    "import matplotlib.pyplot as plt\n",
    "import sklearn\n",
    "from sklearn.linear_model import LinearRegression\n",
    "from sklearn.model_selection import train_test_split\n",
    "import patsy\n",
    "import numpy as np"
   ]
  },
  {
   "cell_type": "code",
   "execution_count": 61,
   "id": "78ec324e",
   "metadata": {},
   "outputs": [
    {
     "name": "stdout",
     "output_type": "stream",
     "text": [
      "[[10.75359973]]\n",
      "[-1.36180455]\n",
      "[[-4.47780523]\n",
      " [ 6.89307319]\n",
      " [-0.65476698]\n",
      " [-6.53284485]\n",
      " [ 4.52219477]\n",
      " [-2.76484621]\n",
      " [ 9.21483343]\n",
      " [-2.21700605]\n",
      " [15.04379313]\n",
      " [ 2.67291471]\n",
      " [ 6.04971458]\n",
      " [ 0.08443384]\n",
      " [-2.32708529]\n",
      " [ 6.48155406]\n",
      " [-3.55908665]\n",
      " [-3.74452586]\n",
      " [ 9.57131294]\n",
      " [-7.87492545]]\n"
     ]
    }
   ],
   "source": [
    "data = pd.read_csv('SCORES.csv')\n",
    "DF = pd.DataFrame(data)\n",
    "\n",
    "# Dzielenie na podzbiory\n",
    "X = DF.Hours\n",
    "y = DF.Scores\n",
    "X_train, X_test, y_train, y_test = train_test_split(X, y, test_size=0.7, train_size=0.3)\n",
    "X_train = np.array(X_train).reshape(-1, 1)\n",
    "X_test = np.array(X_test).reshape(-1, 1)\n",
    "y_train = np.array(y_train).reshape(-1, 1)\n",
    "y_test = np.array(y_test).reshape(-1, 1)\n",
    "\n",
    "# Tworzenie modelu\n",
    "model1 = LinearRegression()\n",
    "model1.fit(X_train, y_train)\n",
    "\n",
    "# Wypisywanie wskaznikow\n",
    "print(model1.coef_)\n",
    "print(model1.intercept_)\n",
    "# intercept to wartosc wyniku dla czasu rownego 0 (przeciecie z osia y)\n",
    "# coef wspolczynnik : wynik = coef * czas + intercept\n",
    "\n",
    "# Predykcja czesci testowej\n",
    "y_pred = model1.predict(X_test)\n",
    "print(y_pred - y_test)\n",
    "\n",
    "# Wykresy"
   ]
  }
 ],
 "metadata": {
  "kernelspec": {
   "display_name": "Python 3",
   "language": "python",
   "name": "python3"
  },
  "language_info": {
   "codemirror_mode": {
    "name": "ipython",
    "version": 3
   },
   "file_extension": ".py",
   "mimetype": "text/x-python",
   "name": "python",
   "nbconvert_exporter": "python",
   "pygments_lexer": "ipython3",
   "version": "3.8.8"
  }
 },
 "nbformat": 4,
 "nbformat_minor": 5
}
