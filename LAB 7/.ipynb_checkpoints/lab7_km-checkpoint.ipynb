{
 "cells": [
  {
   "cell_type": "markdown",
   "id": "a5dd2c84",
   "metadata": {},
   "source": [
    "# Analiza i Bazy Danych\n",
    "## Karol Musiał, grupa 3a\n",
    "### Laboratorium 7\n",
    "## \"Modele Liniowe\""
   ]
  },
  {
   "cell_type": "code",
   "execution_count": 3,
   "id": "66936484",
   "metadata": {},
   "outputs": [],
   "source": [
    "# Import Modułów\n",
    "import pandas as pd\n",
    "import matplotlib.pyplot as plt\n",
    "import sklearn\n",
    "from sklearn.linear_model import LinearRegression\n",
    "from sklearn.model_selection import train_test_split\n",
    "from sklearn.metrics import mean_absolute_error, mean_squared_error\n",
    "import patsy\n",
    "import numpy as np"
   ]
  },
  {
   "cell_type": "code",
   "execution_count": 4,
   "id": "78ec324e",
   "metadata": {
    "scrolled": true
   },
   "outputs": [],
   "source": [
    "def linear_reg(name, X_name, y_name):\n",
    "    \n",
    "    # Odczytanie danych\n",
    "    data = pd.read_csv(name)\n",
    "    DF = pd.DataFrame(data)\n",
    "\n",
    "    # Wstępny wykres\n",
    "    DF.plot.scatter(x=X_name,y=y_name,marker='o')\n",
    "    plt.suptitle('Wykres wstepny')\n",
    "    plt.show()\n",
    "\n",
    "    # Dzielenie na podzbiory\n",
    "    X = DF[X_name]\n",
    "    y = DF[y_name]\n",
    "    X_train, X_test, y_train, y_test = train_test_split(X, y, test_size=0.7, train_size=0.3)\n",
    "    X_train = np.array(X_train).reshape(-1, 1)\n",
    "    X_test = np.array(X_test).reshape(-1, 1)\n",
    "    y_train = np.array(y_train).reshape(-1, 1)\n",
    "    y_test = np.array(y_test).reshape(-1, 1)\n",
    "\n",
    "    # Tworzenie modelu\n",
    "    model1 = LinearRegression()\n",
    "    model1.fit(X_train, y_train)\n",
    "\n",
    "    # Wypisywanie wskaznikow\n",
    "    print(\"\\nCoef = {a}\".format(a=model1.coef_))\n",
    "    print(\"Intercept = {a}\\n\".format(a=model1.intercept_))\n",
    "    # Coef to współczynniki wielomianu opisującego zmienne zależne i niezależne\n",
    "    # Intercept to wartości zmiennych niezależnych dla zmiennych zależnych równych 0\n",
    "    # W interpretacji geometrycznej, coef to nachylenie prostej, a intercept to miejsce przecięcia z osią Y\n",
    "\n",
    "    # Predykcja czesci testowej\n",
    "    y_pred = model1.predict(X_test)\n",
    "    print(\"Roznica miedzy predykcja a rzeczywistym wynikiem : \\n{a}\\n\".format(a=(y_pred - y_test).T))\n",
    "\n",
    "    # Wykresy\n",
    "    plt.scatter(X_test, y_test)\n",
    "    plt.plot(X_test, y_pred, 'r')\n",
    "    plt.suptitle('Regresja liniowa')\n",
    "    plt.show()\n",
    "\n",
    "    # Walidacja danych\n",
    "    mae = mean_absolute_error(y_test, y_pred)\n",
    "    mse = mean_squared_error(y_test, y_pred)\n",
    "    rmse = np.sqrt(mse)\n",
    "    print('\\nŚredni błąd bezwzględny = {a}'.format(a=mae))\n",
    "    print('Błąd średniokwadratowy = {a}'.format(a=mse))\n",
    "    print('Pierwiastek błędu średniokwadratowego = {a}'.format(a=rmse))\n",
    "    "
   ]
  },
  {
   "cell_type": "code",
   "execution_count": 7,
   "id": "e414ad63",
   "metadata": {},
   "outputs": [
    {
     "data": {
      "image/png": "[encoded data removed]",
      "text/plain": [
       "<Figure size 432x288 with 1 Axes>"
      ]
     },
     "metadata": {
      "needs_background": "light"
     },
     "output_type": "display_data"
    },
    {
     "name": "stdout",
     "output_type": "stream",
     "text": [
      "\n",
      "Coef = [[0.81595092]]\n",
      "Intercept = [72.]\n",
      "\n",
      "Roznica miedzy predykcja a rzeczywistym wynikiem : \n",
      "[[  5.40490798  -1.5398773   -6.30674847 -12.6993865   -8.59509202\n",
      "  -28.17177914   9.95705521   1.77300613 -21.96319018 -12.59509202\n",
      "  -10.49079755 -12.6196319    3.95705521   9.77300613]]\n",
      "\n"
     ]
    },
    {
     "data": {
      "image/png": "[encoded data removed]",
      "text/plain": [
       "<Figure size 432x288 with 1 Axes>"
      ]
     },
     "metadata": {
      "needs_background": "light"
     },
     "output_type": "display_data"
    },
    {
     "name": "stdout",
     "output_type": "stream",
     "text": [
      "\n",
      "Średni błąd bezwzględny = 10.417616126205084\n",
      "Błąd średniokwadratowy = 158.85320970196207\n",
      "Pierwiastek błędu średniokwadratowego = 12.603698254955253\n"
     ]
    }
   ],
   "source": [
    "#linear_reg('SCORES.csv', ['Hours'], ['Scores'])\n",
    "linear_reg('SBP.csv', ['Age'], ['SBP'])"
   ]
  }
 ],
 "metadata": {
  "kernelspec": {
   "display_name": "Python 3",
   "language": "python",
   "name": "python3"
  },
  "language_info": {
   "codemirror_mode": {
    "name": "ipython",
    "version": 3
   },
   "file_extension": ".py",
   "mimetype": "text/x-python",
   "name": "python",
   "nbconvert_exporter": "python",
   "pygments_lexer": "ipython3",
   "version": "3.8.8"
  }
 },
 "nbformat": 4,
 "nbformat_minor": 5
}
