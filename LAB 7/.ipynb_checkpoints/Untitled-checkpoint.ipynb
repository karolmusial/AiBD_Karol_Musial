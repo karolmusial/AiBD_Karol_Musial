{
 "cells": [
  {
   "cell_type": "code",
   "execution_count": 49,
   "id": "66936484",
   "metadata": {},
   "outputs": [],
   "source": [
    "# Import Modułów\n",
    "import pandas as pd\n",
    "import matplotlib.pyplot as plt\n",
    "import sklearn\n",
    "from sklearn.linear_model import LinearRegression\n",
    "from sklearn.model_selection import train_test_split\n",
    "from sklearn.metrics import mean_absolute_error, mean_squared_error\n",
    "import patsy\n",
    "import numpy as np"
   ]
  },
  {
   "cell_type": "code",
   "execution_count": 59,
   "id": "78ec324e",
   "metadata": {
    "scrolled": true
   },
   "outputs": [
    {
     "data": {
      "image/png": "[encoded data removed]",
      "text/plain": [
       "<Figure size 432x288 with 1 Axes>"
      ]
     },
     "metadata": {
      "needs_background": "light"
     },
     "output_type": "display_data"
    },
    {
     "name": "stdout",
     "output_type": "stream",
     "text": [
      "\n",
      "Coef = [[1.53186559]]\n",
      "Intercept = [30.82039397]\n",
      "\n",
      "Roznica miedzy predykcja a rzeczywistym wynikiem : \n",
      "[[ -0.82155272  11.73232908  13.8377752    5.73232908  -7.39513326\n",
      "   12.26419467   4.98725377   3.79606025  -4.67207416   9.32792584\n",
      "    4.26419467  -8.67207416 -10.86326767 -16.60834299]]\n",
      "\n"
     ]
    },
    {
     "data": {
      "image/png": "[encoded data removed]",
      "text/plain": [
       "<Figure size 432x288 with 1 Axes>"
      ]
     },
     "metadata": {
      "needs_background": "light"
     },
     "output_type": "display_data"
    },
    {
     "name": "stdout",
     "output_type": "stream",
     "text": [
      "\n",
      "średni błąd bezwzględny = 8.212464823704682\n",
      "Błąd średniokwadratowy = 85.93726424856948\n",
      "Pierwiastek błędu średniokwadratowego = 9.270235393374296\n"
     ]
    }
   ],
   "source": [
    "def linear_reg(name, X_name, y_name):\n",
    "    \n",
    "    # Odczytanie danych\n",
    "    data = pd.read_csv(name)\n",
    "    DF = pd.DataFrame(data)\n",
    "\n",
    "    # Wstępny wykres\n",
    "    DF.plot.scatter(x=X_name,y=y_name,marker='o')\n",
    "    plt.suptitle('Wykres wstepny')\n",
    "    plt.show()\n",
    "\n",
    "    # Dzielenie na podzbiory\n",
    "    X = DF[X_name]\n",
    "    y = DF[y_name]\n",
    "    X_train, X_test, y_train, y_test = train_test_split(X, y, test_size=0.7, train_size=0.3)\n",
    "    X_train = np.array(X_train).reshape(-1, 1)\n",
    "    X_test = np.array(X_test).reshape(-1, 1)\n",
    "    y_train = np.array(y_train).reshape(-1, 1)\n",
    "    y_test = np.array(y_test).reshape(-1, 1)\n",
    "\n",
    "    # Tworzenie modelu\n",
    "    model1 = LinearRegression()\n",
    "    model1.fit(X_train, y_train)\n",
    "\n",
    "    # Wypisywanie wskaznikow\n",
    "    print(\"\\nCoef = {a}\".format(a=model1.coef_))\n",
    "    print(\"Intercept = {a}\\n\".format(a=model1.intercept_))\n",
    "    # Coef to współczynniki wielomianu opisującego zmienne zależne i niezależne\n",
    "    # Intercept to wartości zmiennych niezależnych dla zmiennych zależnych równych 0\n",
    "    # W interpretacji geometrycznej, coef to nachylenie prostej, a intercept to miejsce przecięcia z osią Y\n",
    "\n",
    "    # Predykcja czesci testowej\n",
    "    y_pred = model1.predict(X_test)\n",
    "    print(\"Roznica miedzy predykcja a rzeczywistym wynikiem : \\n{a}\\n\".format(a=(y_pred - y_test).T))\n",
    "\n",
    "    # Wykresy\n",
    "    plt.scatter(X_test, y_test)\n",
    "    plt.plot(X_test, y_pred, 'r')\n",
    "    plt.suptitle('Regresja liniowa')\n",
    "    plt.show()\n",
    "\n",
    "    # Walidacja danych\n",
    "    mae = mean_absolute_error(y_test, y_pred)\n",
    "    mse = mean_squared_error(y_test, y_pred)\n",
    "    rmse = np.sqrt(mse)\n",
    "    print('\\nśredni błąd bezwzględny = {a}'.format(a=mae))\n",
    "    print('Błąd średniokwadratowy = {a}'.format(a=mse))\n",
    "    print('Pierwiastek błędu średniokwadratowego = {a}'.format(a=rmse))\n",
    "    \n",
    "#linear_reg('SCORES.csv', ['Hours'], ['Scores'])\n",
    "linear_reg('SBP.csv', ['Age'], ['SBP'])"
   ]
  }
 ],
 "metadata": {
  "kernelspec": {
   "display_name": "Python 3",
   "language": "python",
   "name": "python3"
  },
  "language_info": {
   "codemirror_mode": {
    "name": "ipython",
    "version": 3
   },
   "file_extension": ".py",
   "mimetype": "text/x-python",
   "name": "python",
   "nbconvert_exporter": "python",
   "pygments_lexer": "ipython3",
   "version": "3.8.8"
  }
 },
 "nbformat": 4,
 "nbformat_minor": 5
}
