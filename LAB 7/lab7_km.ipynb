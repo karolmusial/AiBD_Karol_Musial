{
 "cells": [
  {
   "cell_type": "markdown",
   "id": "a5dd2c84",
   "metadata": {},
   "source": [
    "# Analiza i Bazy Danych\n",
    "## Karol Musiał, grupa 3a\n",
    "### Laboratorium 7\n",
    "## \"Modele Liniowe\""
   ]
  },
  {
   "cell_type": "code",
   "execution_count": 8,
   "id": "66936484",
   "metadata": {},
   "outputs": [],
   "source": [
    "# Import Modułów\n",
    "import pandas as pd\n",
    "import matplotlib.pyplot as plt\n",
    "import sklearn\n",
    "from sklearn.linear_model import LinearRegression\n",
    "from sklearn.model_selection import train_test_split\n",
    "from sklearn.metrics import mean_absolute_error, mean_squared_error\n",
    "import numpy as np"
   ]
  },
  {
   "cell_type": "code",
   "execution_count": 18,
   "id": "78ec324e",
   "metadata": {
    "scrolled": true
   },
   "outputs": [],
   "source": [
    "def linear_reg(name, X_name, y_name):\n",
    "    \n",
    "    # Odczytanie danych\n",
    "    data = pd.read_csv(name)\n",
    "    DF = pd.DataFrame(data)\n",
    "\n",
    "    # Wstępny wykres\n",
    "    DF.plot.scatter(x=X_name,y=y_name,marker='o')\n",
    "    plt.suptitle('Wykres wstepny')\n",
    "    plt.show()\n",
    "\n",
    "    # Dzielenie na podzbiory\n",
    "    X = DF[X_name]\n",
    "    y = DF[y_name]\n",
    "    X_train, X_test, y_train, y_test = train_test_split(X, y, test_size=0.7, train_size=0.3)\n",
    "    X_train = np.array(X_train).reshape(-1, 1)\n",
    "    X_test = np.array(X_test).reshape(-1, 1)\n",
    "    y_train = np.array(y_train).reshape(-1, 1)\n",
    "    y_test = np.array(y_test).reshape(-1, 1)\n",
    "\n",
    "    # Tworzenie modelu\n",
    "    model1 = LinearRegression()\n",
    "    model1.fit(X_train, y_train)\n",
    "\n",
    "    # Wypisywanie wskaznikow\n",
    "    print(\"\\nCoef = {a}\".format(a=model1.coef_))\n",
    "    print(\"Intercept = {a}\\n\".format(a=model1.intercept_))\n",
    "    # Coef to współczynniki wielomianu opisującego zmienne zależne i niezależne\n",
    "    # Intercept to wartości zmiennych niezależnych dla zmiennych zależnych równych 0\n",
    "    # W interpretacji geometrycznej, coef to nachylenie prostej, a intercept to miejsce przecięcia z osią Y\n",
    "\n",
    "    # Predykcja czesci testowej\n",
    "    y_pred = model1.predict(X_test)\n",
    "    print(\"Roznica miedzy predykcja a rzeczywistym wynikiem : \\n{a}\\n\".format(a=(y_pred - y_test).T))\n",
    "\n",
    "    # Wykresy\n",
    "    plt.scatter(X_test, y_test, label='y_test')\n",
    "    plt.plot(X_test, y_pred, 'r', label='y_pred')\n",
    "    plt.legend()\n",
    "    plt.suptitle('Regresja liniowa')\n",
    "    plt.show()\n",
    "\n",
    "    # Walidacja danych\n",
    "    mae = mean_absolute_error(y_test, y_pred)\n",
    "    mse = mean_squared_error(y_test, y_pred)\n",
    "    rmse = np.sqrt(mse)\n",
    "    print('\\nŚredni błąd bezwzględny = {a}'.format(a=mae))\n",
    "    print('Błąd średniokwadratowy = {a}'.format(a=mse))\n",
    "    print('Pierwiastek błędu średniokwadratowego = {a}'.format(a=rmse))\n",
    "    "
   ]
  },
  {
   "cell_type": "code",
   "execution_count": 19,
   "id": "e414ad63",
   "metadata": {},
   "outputs": [
    {
     "data": {
      "image/png": "[encoded data removed]",
      "text/plain": [
       "<Figure size 432x288 with 1 Axes>"
      ]
     },
     "metadata": {
      "needs_background": "light"
     },
     "output_type": "display_data"
    },
    {
     "name": "stdout",
     "output_type": "stream",
     "text": [
      "\n",
      "Coef = [[9.74488325]]\n",
      "Intercept = [3.86667628]\n",
      "\n",
      "Roznica miedzy predykcja a rzeczywistym wynikiem : \n",
      "[[-4.89362929  0.17786106 -0.63851254 11.69818391  5.51960219 -3.35788412\n",
      "   5.17786106 -6.09772269 -1.7711156  -3.68953589  6.71865091  8.05030268\n",
      "   6.56558086 -4.40386278 -5.97520899  3.74920726  7.97376766  5.89723263]]\n",
      "\n"
     ]
    },
    {
     "data": {
      "image/png": "[encoded data removed]",
      "text/plain": [
       "<Figure size 432x288 with 1 Axes>"
      ]
     },
     "metadata": {
      "needs_background": "light"
     },
     "output_type": "display_data"
    },
    {
     "name": "stdout",
     "output_type": "stream",
     "text": [
      "\n",
      "Średni błąd bezwzględny = 5.13087345056212\n",
      "Błąd średniokwadratowy = 33.57135209540177\n",
      "Pierwiastek błędu średniokwadratowego = 5.794079054983783\n"
     ]
    }
   ],
   "source": [
    "linear_reg('SCORES.csv', ['Hours'], ['Scores'])\n",
    "#linear_reg('SBP.csv', ['Age'], ['SBP'])"
   ]
  },
  {
   "cell_type": "code",
   "execution_count": 38,
   "id": "0eb2b680",
   "metadata": {},
   "outputs": [],
   "source": [
    "def multiple_linear_reg(name, X_name, y_name):\n",
    "    \n",
    "    # Odczytanie danych\n",
    "    data = pd.read_csv(name)\n",
    "    DF = pd.DataFrame(data)\n",
    "    \n",
    "    # Dzielenie na podzbiory\n",
    "    X = DF[X_name]\n",
    "    y = DF[y_name]\n",
    "    X_train, X_test, y_train, y_test = train_test_split(X, y, test_size=0.7, train_size=0.3, random_state=0)\n",
    "    X_train = np.array(X_train)\n",
    "    X_test = np.array(X_test)\n",
    "    y_train = np.array(y_train)\n",
    "    y_test = np.array(y_test)\n",
    "    \n",
    "    # Tworzenie modelu\n",
    "    model2 = LinearRegression()\n",
    "    model2.fit(X_train, y_train)\n",
    "    \n",
    "    # Wypisywanie wskaznikow\n",
    "    print(\"\\nCoef = {a}\".format(a=model2.coef_))\n",
    "    print(\"Intercept = {a}\\n\".format(a=model2.intercept_))\n",
    "    \n",
    "    # Predykcja czesci testowej\n",
    "    y_pred = model2.predict(X_test)\n",
    "    print(\"Roznica miedzy predykcja a rzeczywistym wynikiem : \\n{a}\\n\".format(a=(y_pred - y_test).T))\n",
    "    \n",
    "    # Walidacja danych\n",
    "    mae = mean_absolute_error(y_test, y_pred)\n",
    "    mse = mean_squared_error(y_test, y_pred)\n",
    "    rmse = np.sqrt(mse)\n",
    "    print('\\nŚredni błąd bezwzględny = {a}'.format(a=mae))\n",
    "    print('Błąd średniokwadratowy = {a}'.format(a=mse))\n",
    "    print('Pierwiastek błędu średniokwadratowego = {a}'.format(a=rmse))"
   ]
  },
  {
   "cell_type": "code",
   "execution_count": 40,
   "id": "96d012b3",
   "metadata": {},
   "outputs": [
    {
     "name": "stdout",
     "output_type": "stream",
     "text": [
      "\n",
      "Coef = [[-4.25828099e+01 -9.64961393e-02 -3.99171321e-03  1.64357272e+03]]\n",
      "Intercept = [416.46906213]\n",
      "\n",
      "Roznica miedzy predykcja a rzeczywistym wynikiem : \n",
      "[[-56.53894144 133.70319583  45.21448396  19.95133347 127.18200174\n",
      "  -24.00953873  34.83707906 112.4370323   14.52880253 -80.52120946\n",
      "  -62.29198939  59.59920747  27.74487434  10.43352587  47.25948598\n",
      "   46.20751342 101.48961601 -35.35073673 -11.42163915  -0.8382952\n",
      "  -73.22786833  15.68872903 -23.97602992  84.60025504  48.02046464\n",
      "   17.90129456  73.91179262 -16.67947407 -48.68234524 -85.71483082\n",
      "  127.93200902 101.09194119 132.37155398  49.4955237 ]]\n",
      "\n",
      "\n",
      "Średni błąd bezwzględny = 57.3780768898788\n",
      "Błąd średniokwadratowy = 4798.872014755159\n",
      "Pierwiastek błędu średniokwadratowego = 69.2738912921395\n"
     ]
    }
   ],
   "source": [
    "multiple_linear_reg('PETROL.csv', ['Podatek_paliwowy', 'Sredni_przychod', 'Utwardzone_autostrady', 'Procent_ludnosci_z_prawem_jazdy'], ['Zuzycie_paliwa'])"
   ]
  },
  {
   "cell_type": "code",
   "execution_count": 82,
   "id": "ab165238",
   "metadata": {},
   "outputs": [
    {
     "name": "stdout",
     "output_type": "stream",
     "text": [
      "   age  sex  cp trestbps chol fbs restecg thalach exang  oldpeak slope ca  \\\n",
      "0   28    1   2      130  132   0       2     185     0      0.0     ?  ?   \n",
      "1   29    1   2      120  243   0       0     160     0      0.0     ?  ?   \n",
      "2   29    1   2      140    ?   0       0     170     0      0.0     ?  ?   \n",
      "3   30    0   1      170  237   0       1     170     0      0.0     ?  ?   \n",
      "4   31    0   2      100  219   0       1     150     0      0.0     ?  ?   \n",
      "\n",
      "  thal  num         \n",
      "0    ?           0  \n",
      "1    ?           0  \n",
      "2    ?           0  \n",
      "3    6           0  \n",
      "4    ?           0  \n",
      "   age  sex  cp trestbps chol fbs restecg thalach exang  oldpeak  num       \n",
      "0   28    1   2      130  132   0       2     185     0      0.0           0\n",
      "1   29    1   2      120  243   0       0     160     0      0.0           0\n",
      "2   29    1   2      140  NaN   0       0     170     0      0.0           0\n",
      "3   30    0   1      170  237   0       1     170     0      0.0           0\n",
      "4   31    0   2      100  219   0       1     150     0      0.0           0\n",
      "   age  sex  cp trestbps chol fbs restecg thalach exang  oldpeak  num       \n",
      "0   28    1   2      130  132   0       2     185     0      0.0           0\n",
      "1   29    1   2      120  243   0       0     160     0      0.0           0\n",
      "3   30    0   1      170  237   0       1     170     0      0.0           0\n",
      "4   31    0   2      100  219   0       1     150     0      0.0           0\n",
      "5   32    0   2      105  198   0       0     165     0      0.0           0\n"
     ]
    }
   ],
   "source": [
    "# 2. Import Danych\n",
    "data = pd.read_csv('HEART.csv')\n",
    "DF = pd.DataFrame(data)\n",
    "print(DF.head())\n",
    "\n",
    "# 3. Przetworzenie danych\n",
    "DF = DF.replace('?', np.nan)\n",
    "del DF['slope']\n",
    "del DF['ca']\n",
    "del DF['thal']\n",
    "print(DF.head())\n",
    "\n",
    "DF = DF.dropna()\n",
    "print(DF.head())"
   ]
  },
  {
   "cell_type": "code",
   "execution_count": null,
   "id": "b4ca740f",
   "metadata": {},
   "outputs": [],
   "source": [
    "#4. \n",
    "\n"
   ]
  },
  {
   "cell_type": "code",
   "execution_count": null,
   "id": "a1cb7db6",
   "metadata": {},
   "outputs": [],
   "source": []
  }
 ],
 "metadata": {
  "kernelspec": {
   "display_name": "Python 3 (ipykernel)",
   "language": "python",
   "name": "python3"
  },
  "language_info": {
   "codemirror_mode": {
    "name": "ipython",
    "version": 3
   },
   "file_extension": ".py",
   "mimetype": "text/x-python",
   "name": "python",
   "nbconvert_exporter": "python",
   "pygments_lexer": "ipython3",
   "version": "3.8.10"
  }
 },
 "nbformat": 4,
 "nbformat_minor": 5
}
