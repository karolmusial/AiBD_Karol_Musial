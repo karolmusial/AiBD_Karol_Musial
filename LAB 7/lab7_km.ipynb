{
 "cells": [
  {
   "cell_type": "markdown",
   "id": "a5dd2c84",
   "metadata": {},
   "source": [
    "# Analiza i Bazy Danych\n",
    "## Karol Musiał, grupa 3a\n",
    "### Laboratorium 7\n",
    "## \"Modele Liniowe\""
   ]
  },
  {
   "cell_type": "code",
   "execution_count": 1,
   "id": "66936484",
   "metadata": {},
   "outputs": [],
   "source": [
    "# Import Modułów\n",
    "import pandas as pd\n",
    "import matplotlib.pyplot as plt\n",
    "import sklearn\n",
    "from sklearn.linear_model import LinearRegression\n",
    "from sklearn.model_selection import train_test_split\n",
    "from sklearn.metrics import mean_absolute_error, mean_squared_error\n",
    "import patsy\n",
    "import numpy as np"
   ]
  },
  {
   "cell_type": "code",
   "execution_count": 2,
   "id": "78ec324e",
   "metadata": {
    "scrolled": true
   },
   "outputs": [],
   "source": [
    "def linear_reg(name, X_name, y_name):\n",
    "    \n",
    "    # Odczytanie danych\n",
    "    data = pd.read_csv(name)\n",
    "    DF = pd.DataFrame(data)\n",
    "\n",
    "    # Wstępny wykres\n",
    "    DF.plot.scatter(x=X_name,y=y_name,marker='o')\n",
    "    plt.suptitle('Wykres wstepny')\n",
    "    plt.show()\n",
    "\n",
    "    # Dzielenie na podzbiory\n",
    "    X = DF[X_name]\n",
    "    y = DF[y_name]\n",
    "    X_train, X_test, y_train, y_test = train_test_split(X, y, test_size=0.7, train_size=0.3)\n",
    "    X_train = np.array(X_train).reshape(-1, 1)\n",
    "    X_test = np.array(X_test).reshape(-1, 1)\n",
    "    y_train = np.array(y_train).reshape(-1, 1)\n",
    "    y_test = np.array(y_test).reshape(-1, 1)\n",
    "\n",
    "    # Tworzenie modelu\n",
    "    model1 = LinearRegression()\n",
    "    model1.fit(X_train, y_train)\n",
    "\n",
    "    # Wypisywanie wskaznikow\n",
    "    print(\"\\nCoef = {a}\".format(a=model1.coef_))\n",
    "    print(\"Intercept = {a}\\n\".format(a=model1.intercept_))\n",
    "    # Coef to współczynniki wielomianu opisującego zmienne zależne i niezależne\n",
    "    # Intercept to wartości zmiennych niezależnych dla zmiennych zależnych równych 0\n",
    "    # W interpretacji geometrycznej, coef to nachylenie prostej, a intercept to miejsce przecięcia z osią Y\n",
    "\n",
    "    # Predykcja czesci testowej\n",
    "    y_pred = model1.predict(X_test)\n",
    "    print(\"Roznica miedzy predykcja a rzeczywistym wynikiem : \\n{a}\\n\".format(a=(y_pred - y_test).T))\n",
    "\n",
    "    # Wykresy\n",
    "    plt.scatter(X_test, y_test)\n",
    "    plt.plot(X_test, y_pred, 'r')\n",
    "    plt.suptitle('Regresja liniowa')\n",
    "    plt.show()\n",
    "\n",
    "    # Walidacja danych\n",
    "    mae = mean_absolute_error(y_test, y_pred)\n",
    "    mse = mean_squared_error(y_test, y_pred)\n",
    "    rmse = np.sqrt(mse)\n",
    "    print('\\nŚredni błąd bezwzględny = {a}'.format(a=mae))\n",
    "    print('Błąd średniokwadratowy = {a}'.format(a=mse))\n",
    "    print('Pierwiastek błędu średniokwadratowego = {a}'.format(a=rmse))\n",
    "    "
   ]
  },
  {
   "cell_type": "code",
   "execution_count": 37,
   "id": "e414ad63",
   "metadata": {},
   "outputs": [
    {
     "data": {
      "image/png": "[encoded data removed]",
      "text/plain": [
       "<Figure size 432x288 with 1 Axes>"
      ]
     },
     "metadata": {
      "needs_background": "light"
     },
     "output_type": "display_data"
    },
    {
     "name": "stdout",
     "output_type": "stream",
     "text": [
      "\n",
      "Coef = [[1.10267857]]\n",
      "Intercept = [54.56696429]\n",
      "\n",
      "Roznica miedzy predykcja a rzeczywistym wynikiem : \n",
      "[[ -0.88839286   0.34375      6.03571429 -11.96428571  -8.83482143\n",
      "    9.83035714  -7.96428571 -10.34821429  -0.45089286   1.83035714\n",
      "  -23.52678571   3.67857143 -11.58035714  -7.68303571]]\n",
      "\n"
     ]
    },
    {
     "data": {
      "image/png": "[encoded data removed]",
      "text/plain": [
       "<Figure size 432x288 with 1 Axes>"
      ]
     },
     "metadata": {
      "needs_background": "light"
     },
     "output_type": "display_data"
    },
    {
     "name": "stdout",
     "output_type": "stream",
     "text": [
      "\n",
      "Średni błąd bezwzględny = 7.497130102040815\n",
      "Błąd średniokwadratowy = 92.10110838420191\n",
      "Pierwiastek błędu średniokwadratowego = 9.59693223817913\n"
     ]
    }
   ],
   "source": [
    "#linear_reg('SCORES.csv', ['Hours'], ['Scores'])\n",
    "linear_reg('SBP.csv', ['Age'], ['SBP'])"
   ]
  },
  {
   "cell_type": "code",
   "execution_count": 22,
   "id": "0eb2b680",
   "metadata": {},
   "outputs": [],
   "source": [
    "def multiple_linear_reg(name, X_name, y_name):\n",
    "    \n",
    "    # Odczytanie danych\n",
    "    data = pd.read_csv(name)\n",
    "    DF = pd.DataFrame(data)\n",
    "    \n",
    "    # Dzielenie na podzbiory\n",
    "    X = DF[X_name]\n",
    "    y = DF[y_name]\n",
    "    X_train, X_test, y_train, y_test = train_test_split(X, y, test_size=0.7, train_size=0.3)\n",
    "    X_train = np.array(X_train)\n",
    "    X_test = np.array(X_test)\n",
    "    y_train = np.array(y_train)\n",
    "    y_test = np.array(y_test)\n",
    "    \n",
    "    # Tworzenie modelu\n",
    "    model2 = LinearRegression()\n",
    "    model2.fit(X_train, y_train)\n",
    "    \n",
    "    # Wypisywanie wskaznikow\n",
    "    print(\"\\nCoef = {a}\".format(a=model2.coef_))\n",
    "    print(\"Intercept = {a}\\n\".format(a=model2.intercept_))\n",
    "    \n",
    "    # Predykcja czesci testowej\n",
    "    y_pred = model2.predict(X_test)\n",
    "    print(\"Roznica miedzy predykcja a rzeczywistym wynikiem : \\n{a}\\n\".format(a=(y_pred - y_test).T))\n",
    "    \n",
    "    # Walidacja danych\n",
    "    mae = mean_absolute_error(y_test, y_pred)\n",
    "    mse = mean_squared_error(y_test, y_pred)\n",
    "    rmse = np.sqrt(mse)\n",
    "    print('\\nŚredni błąd bezwzględny = {a}'.format(a=mae))\n",
    "    print('Błąd średniokwadratowy = {a}'.format(a=mse))\n",
    "    print('Pierwiastek błędu średniokwadratowego = {a}'.format(a=rmse))"
   ]
  },
  {
   "cell_type": "code",
   "execution_count": 35,
   "id": "96d012b3",
   "metadata": {},
   "outputs": [
    {
     "name": "stdout",
     "output_type": "stream",
     "text": [
      "\n",
      "Coef = [[-3.18836320e+01 -6.45335825e-02 -2.96143346e-03  1.44927360e+03]]\n",
      "Intercept = [291.65626756]\n",
      "\n",
      "Roznica miedzy predykcja a rzeczywistym wynikiem : \n",
      "[[  80.28059949   -9.43295795   52.08883164 -217.58010823   45.6962965\n",
      "   129.83244476  -76.25269255  -32.19081089   15.28857472   17.35876756\n",
      "    56.26255062  -14.37126271  -51.09351516   83.95388709   59.34594388\n",
      "    54.10143416   63.86512864  -81.68323883  -11.72899412   43.97289136\n",
      "    87.86812122   30.16313991 -116.85004321  -30.41236948  -11.56161489\n",
      "    60.73662879   -1.17158364  -62.32420743  -60.96063001   33.90482578\n",
      "    23.3300796    80.89851547   -7.15636802   89.2384894 ]]\n",
      "\n",
      "\n",
      "Średni błąd bezwzględny = 55.67522199234224\n",
      "Błąd średniokwadratowy = 4885.517381495734\n",
      "Pierwiastek błędu średniokwadratowego = 69.8964761736651\n"
     ]
    }
   ],
   "source": [
    "multiple_linear_reg('PETROL.csv', ['Podatek_paliwowy', 'Sredni_przychod', 'Utwardzone_autostrady', 'Procent_ludnosci_z_prawem_jazdy'], ['Zuzycie_paliwa'])"
   ]
  },
  {
   "cell_type": "code",
   "execution_count": null,
   "id": "ab165238",
   "metadata": {},
   "outputs": [],
   "source": []
  }
 ],
 "metadata": {
  "kernelspec": {
   "display_name": "Python 3 (ipykernel)",
   "language": "python",
   "name": "python3"
  },
  "language_info": {
   "codemirror_mode": {
    "name": "ipython",
    "version": 3
   },
   "file_extension": ".py",
   "mimetype": "text/x-python",
   "name": "python",
   "nbconvert_exporter": "python",
   "pygments_lexer": "ipython3",
   "version": "3.8.5"
  }
 },
 "nbformat": 4,
 "nbformat_minor": 5
}
